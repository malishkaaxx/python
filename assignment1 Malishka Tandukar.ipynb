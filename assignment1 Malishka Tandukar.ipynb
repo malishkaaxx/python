{
 "cells": [
  {
   "cell_type": "code",
   "execution_count": 43,
   "id": "cc9e78d2",
   "metadata": {},
   "outputs": [
    {
     "name": "stdout",
     "output_type": "stream",
     "text": [
      "whats ur age: 98\n",
      "ur age is 98\n"
     ]
    }
   ],
   "source": [
    "#1. ask user their age and print it\n",
    "age=input(\"whats ur age: \")\n",
    "print(f\"ur age is {age}\")"
   ]
  },
  {
   "cell_type": "code",
   "execution_count": 44,
   "id": "13e2db57",
   "metadata": {},
   "outputs": [
    {
     "name": "stdout",
     "output_type": "stream",
     "text": [
      "first variable: 5\n",
      "second variable: 6\n",
      "after swapping, first variable is 6\n",
      "after swapping, second variable is 5\n"
     ]
    }
   ],
   "source": [
    "#2. swap value of two variable without any temporary variable\n",
    "a=int(input(\"first variable: \"))\n",
    "b=int(input(\"second variable: \"))\n",
    "a=a+b\n",
    "b=a-b\n",
    "a=a-b\n",
    "print(f\"after swapping, first variable is {a}\")\n",
    "print(f\"after swapping, second variable is {b}\")"
   ]
  },
  {
   "cell_type": "code",
   "execution_count": 42,
   "id": "ac1430c6",
   "metadata": {},
   "outputs": [
    {
     "name": "stdout",
     "output_type": "stream",
     "text": [
      "enter length: 4.5\n",
      "area of square is 20.25\n"
     ]
    }
   ],
   "source": [
    "#3. area of square\n",
    "l=float(input(\"enter length: \"))\n",
    "a=pow(l,2)\n",
    "print(f\"area of square is {a}\")"
   ]
  },
  {
   "cell_type": "code",
   "execution_count": 41,
   "id": "05e09f89",
   "metadata": {},
   "outputs": [
    {
     "name": "stdout",
     "output_type": "stream",
     "text": [
      "enter length: 3.2\n",
      "enter breadth: 4\n",
      "area of square is 12.8\n"
     ]
    }
   ],
   "source": [
    "#area of rectangle \n",
    "l=float(input(\"enter length: \"))\n",
    "b=float(input(\"enter breadth: \"))\n",
    "a=l*b\n",
    "print(f\"area of square is {a}\")"
   ]
  },
  {
   "cell_type": "code",
   "execution_count": 8,
   "id": "54490cc7",
   "metadata": {},
   "outputs": [
    {
     "name": "stdout",
     "output_type": "stream",
     "text": [
      "abcd\n"
     ]
    }
   ],
   "source": [
    "#4. concatenate elements of a list of string into a single string using loop\n",
    "l=[\"a\",\"b\",\"c\",\"d\"]\n",
    "d=\"\"\n",
    "for i in l:\n",
    "    d=d+i\n",
    "print(d)"
   ]
  },
  {
   "cell_type": "code",
   "execution_count": 40,
   "id": "cfb12195",
   "metadata": {},
   "outputs": [
    {
     "name": "stdout",
     "output_type": "stream",
     "text": [
      "enter some character: \n",
      "empty\n"
     ]
    }
   ],
   "source": [
    "#5. check if given string is empty\n",
    "s=input(\"enter some character: \")\n",
    "if len(s)==0:\n",
    "    print(\"empty\")\n",
    "else:\n",
    "    print(\"non empty\")\n"
   ]
  },
  {
   "cell_type": "code",
   "execution_count": 13,
   "id": "50ce4495",
   "metadata": {},
   "outputs": [
    {
     "name": "stdout",
     "output_type": "stream",
     "text": [
      "minimum value is 2\n"
     ]
    }
   ],
   "source": [
    "#6. find the minimum value in a list of numbers\n",
    "li=[23,34,56,3,56,78,2,34,55,]\n",
    "li.sort()\n",
    "print(\"minimum value is\",li[0])"
   ]
  },
  {
   "cell_type": "code",
   "execution_count": 14,
   "id": "b704593e",
   "metadata": {},
   "outputs": [
    {
     "name": "stdout",
     "output_type": "stream",
     "text": [
      "2\n"
     ]
    }
   ],
   "source": [
    "li=[23,34,56,3,56,78,2,34,55,]\n",
    "print(min(li))"
   ]
  },
  {
   "cell_type": "code",
   "execution_count": 27,
   "id": "34e4f2c5",
   "metadata": {},
   "outputs": [
    {
     "name": "stdout",
     "output_type": "stream",
     "text": [
      "minimum is 2\n"
     ]
    }
   ],
   "source": [
    "li=[23,34,56,3,56,78,2,34,55]\n",
    "a=li[0]\n",
    "for i in li:\n",
    "    if a>i:\n",
    "        a=i\n",
    "print(\"minimum is\",a)"
   ]
  },
  {
   "cell_type": "code",
   "execution_count": 28,
   "id": "febd283e",
   "metadata": {},
   "outputs": [
    {
     "name": "stdout",
     "output_type": "stream",
     "text": [
      "current date:\n",
      "2024-02-07\n"
     ]
    }
   ],
   "source": [
    "#7. prints the current date\n",
    "import datetime #datetime package bhitra datetime bhanne euta library ma aile ko date dine fuction access gareko\n",
    "now=datetime.datetime.now().date()\n",
    "print(\"current date:\")\n",
    "print(now.strftime(\"%Y-%m-%d\"))"
   ]
  },
  {
   "cell_type": "code",
   "execution_count": 18,
   "id": "10f048c3",
   "metadata": {},
   "outputs": [
    {
     "name": "stdout",
     "output_type": "stream",
     "text": [
      "<class 'int'>\n"
     ]
    }
   ],
   "source": [
    "#8. convert the floating-point number 3.14 to an integer\n",
    "n=3.14\n",
    "n=int(n)\n",
    "print(type(n))"
   ]
  },
  {
   "cell_type": "code",
   "execution_count": 21,
   "id": "a91db47d",
   "metadata": {},
   "outputs": [
    {
     "name": "stdout",
     "output_type": "stream",
     "text": [
      "enter a number: 10\n",
      "10 is not a multiple of both 3 and 5\n"
     ]
    }
   ],
   "source": [
    "#9. Check if a given number is a multiple of both 3 and 5\n",
    "a=int(input(\"enter a number: \"))\n",
    "if (a%3==0 and a%5==0):\n",
    "    print(f\"{a} is a multiple of both 3 and 5\")\n",
    "else:\n",
    "    print(f\"{a} is not a multiple of both 3 and 5\")"
   ]
  },
  {
   "cell_type": "code",
   "execution_count": 27,
   "id": "0beb4ee6",
   "metadata": {},
   "outputs": [
    {
     "name": "stdout",
     "output_type": "stream",
     "text": [
      "[1, 2, 3, 4, 5, 6, 7, 8, 9, 10]\n"
     ]
    }
   ],
   "source": [
    "#10. Create a list of numbers from 1 to 10 using a list comprehension\n",
    "lc=[1,2,3,4,5,6,7,8,9,10,11,12,13,14,15]\n",
    "newlc= [x for x in range(1,11)]\n",
    "print(newlc)"
   ]
  },
  {
   "cell_type": "code",
   "execution_count": 30,
   "id": "b2272da2",
   "metadata": {},
   "outputs": [
    {
     "name": "stdout",
     "output_type": "stream",
     "text": [
      "enter a number: 36\n",
      "Its square root is 6.0\n"
     ]
    }
   ],
   "source": [
    "#11. Define a function square_root(x) that calculates the square root of a given number\n",
    "x=int(input(\"enter a number: \"))\n",
    "sq=x**(1/2)\n",
    "print(f\"Its square root is {sq}\")"
   ]
  },
  {
   "cell_type": "code",
   "execution_count": 32,
   "id": "3e1ecc42",
   "metadata": {},
   "outputs": [
    {
     "name": "stdout",
     "output_type": "stream",
     "text": [
      "20\n"
     ]
    }
   ],
   "source": [
    "#12. Convert the string \"15\" to an integer and then add 5 to it\n",
    "s=\"15\"\n",
    "s=int(s)\n",
    "s=s+5\n",
    "print(s)"
   ]
  },
  {
   "cell_type": "code",
   "execution_count": 17,
   "id": "187a146a",
   "metadata": {},
   "outputs": [
    {
     "name": "stdout",
     "output_type": "stream",
     "text": [
      "enter characterramukak\n",
      "kakumar\n"
     ]
    }
   ],
   "source": [
    "#13. print the reverse of a given string\n",
    "c=input(\"enter character\")\n",
    "rev=''\n",
    "for i in range(1,len(c)+1):\n",
    "    rev=rev+c[-i]\n",
    "print(rev)"
   ]
  },
  {
   "cell_type": "code",
   "execution_count": 1,
   "id": "9d9b3855",
   "metadata": {},
   "outputs": [
    {
     "name": "stdout",
     "output_type": "stream",
     "text": [
      "4\n"
     ]
    }
   ],
   "source": [
    "#14. Find and print the index of the first occurrence of the element 7 in a list\n",
    "l=[1,2,4,56,7,34,76,7,2,9,5,7,89,7,5]\n",
    "for i in range(0,len(l)):\n",
    "    if l[i]==7:\n",
    "        print(i)\n",
    "        break\n"
   ]
  },
  {
   "cell_type": "code",
   "execution_count": 19,
   "id": "49fe8afc",
   "metadata": {},
   "outputs": [
    {
     "name": "stdout",
     "output_type": "stream",
     "text": [
      "enter a string: kuhiuh\n",
      "The string does not contain the word \"world\"\n"
     ]
    }
   ],
   "source": [
    "#15. Check if a string contains the substring \"world\"\n",
    "w=input(\"enter a string: \")\n",
    "if \"world\" in w:\n",
    "    print(\"The string contains the word \\\"world\\\"\")\n",
    "else:\n",
    "    print(\"The string does not contain the word \\\"world\\\"\")"
   ]
  },
  {
   "cell_type": "code",
   "execution_count": 18,
   "id": "1fe2dedf",
   "metadata": {},
   "outputs": [
    {
     "name": "stdout",
     "output_type": "stream",
     "text": [
      "2024-02-08\n"
     ]
    }
   ],
   "source": [
    "import datetime\n",
    "d=datetime.datetime.now().date()\n",
    "print(d)"
   ]
  },
  {
   "cell_type": "code",
   "execution_count": 30,
   "id": "9d3b5a4f",
   "metadata": {},
   "outputs": [
    {
     "name": "stdout",
     "output_type": "stream",
     "text": [
      "2024-02-07\n"
     ]
    }
   ],
   "source": []
  },
  {
   "cell_type": "code",
   "execution_count": null,
   "id": "fbbf1c8c",
   "metadata": {},
   "outputs": [],
   "source": []
  }
 ],
 "metadata": {
  "kernelspec": {
   "display_name": "Python 3 (ipykernel)",
   "language": "python",
   "name": "python3"
  },
  "language_info": {
   "codemirror_mode": {
    "name": "ipython",
    "version": 3
   },
   "file_extension": ".py",
   "mimetype": "text/x-python",
   "name": "python",
   "nbconvert_exporter": "python",
   "pygments_lexer": "ipython3",
   "version": "3.11.5"
  }
 },
 "nbformat": 4,
 "nbformat_minor": 5
}
