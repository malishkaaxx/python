{
 "cells": [
  {
   "cell_type": "code",
   "execution_count": 1,
   "id": "d2962630",
   "metadata": {},
   "outputs": [
    {
     "name": "stdout",
     "output_type": "stream",
     "text": [
      "enter a multi-digit no: 2387\n",
      "20\n"
     ]
    }
   ],
   "source": [
    "#16. calculate sum of digits\n",
    "a=input(\"enter a multi-digit no: \")\n",
    "s=0\n",
    "for i in str(a):\n",
    "    s=s+int(i)\n",
    "print(s)"
   ]
  },
  {
   "cell_type": "code",
   "execution_count": 1,
   "id": "673d5946",
   "metadata": {},
   "outputs": [
    {
     "name": "stdout",
     "output_type": "stream",
     "text": [
      "['c', 'b', 'a']\n"
     ]
    }
   ],
   "source": [
    "#17. reverse of items of list\n",
    "a=[\"a\",\"b\",\"c\"] \n",
    "b=[]\n",
    "for i in range(1,len(a)+1):\n",
    "    b.append(a[-i])\n",
    "print(b)"
   ]
  },
  {
   "cell_type": "code",
   "execution_count": 1,
   "id": "b0a21249",
   "metadata": {},
   "outputs": [
    {
     "name": "stdout",
     "output_type": "stream",
     "text": [
      "3\n"
     ]
    }
   ],
   "source": [
    "#18.generate random no betn 1 and 10\n",
    "import random\n",
    "gen=random.randint(1,10)\n",
    "print(gen)\n"
   ]
  },
  {
   "cell_type": "code",
   "execution_count": 3,
   "id": "dcc1de71",
   "metadata": {},
   "outputs": [
    {
     "name": "stdout",
     "output_type": "stream",
     "text": [
      "enter a no: 9\n",
      "composite\n"
     ]
    }
   ],
   "source": [
    "#19.prime or composite\n",
    "a=input(\"enter a no: \") \n",
    "a=int(a)\n",
    "i=1\n",
    "c=0\n",
    "for i in range(1,a+1):\n",
    "    if a%i==0:\n",
    "        c=c+1\n",
    "    else:\n",
    "        pass\n",
    "if c==2:\n",
    "    print(\"prime\")\n",
    "else:\n",
    "    print(\"composite\")"
   ]
  },
  {
   "cell_type": "code",
   "execution_count": 2,
   "id": "69c8c39f",
   "metadata": {},
   "outputs": [
    {
     "name": "stdout",
     "output_type": "stream",
     "text": [
      "[1, 4, 9, 16, 25]\n"
     ]
    }
   ],
   "source": [
    "#20. create list of square no from 1 to 5 using a for loop\n",
    "a=[]\n",
    "for i in range(1,6):\n",
    "    a.append(pow(i,2))\n",
    "print(a)"
   ]
  },
  {
   "cell_type": "code",
   "execution_count": 15,
   "id": "6f1fd43f",
   "metadata": {},
   "outputs": [
    {
     "name": "stdout",
     "output_type": "stream",
     "text": [
      "['ram', 2, 'shyam', 'wow', 67, 9, 'd']\n"
     ]
    }
   ],
   "source": [
    "#21. remove duplicate from list\n",
    "l=[\"ram\",2,\"shyam\",\"wow\",67,9,\"ram\",\"d\",67]\n",
    "li=[]\n",
    "c=0\n",
    "for i in l:\n",
    "    if i not in li:\n",
    "        li.append(i)\n",
    "    else:\n",
    "        continue\n",
    "print(l.replace(li))"
   ]
  },
  {
   "cell_type": "code",
   "execution_count": 16,
   "id": "51badde9",
   "metadata": {},
   "outputs": [],
   "source": [
    "#22. calculate factorial of given no using recursion\n",
    "a=input(\"enter a no\")\n"
   ]
  },
  {
   "cell_type": "code",
   "execution_count": 11,
   "id": "2c9165b7",
   "metadata": {},
   "outputs": [
    {
     "name": "stdout",
     "output_type": "stream",
     "text": [
      "15.0\n"
     ]
    }
   ],
   "source": [
    "#23. calculate average of 10,15,20 without using sum() function\n",
    "a=(10+15+20)/3\n",
    "print(a)"
   ]
  },
  {
   "cell_type": "code",
   "execution_count": 4,
   "id": "6bd0fc05",
   "metadata": {},
   "outputs": [
    {
     "name": "stdout",
     "output_type": "stream",
     "text": [
      "enter string: somethings have vowel\n",
      "the no of vowels in the string is 7\n"
     ]
    }
   ],
   "source": [
    "#24.count no of vowels in given string\n",
    "a=input(\"enter string: \")\n",
    "c=0\n",
    "for i in a:\n",
    "    if i=='a' or i=='e' or i=='i' or i=='o' or i=='u' or i=='A' or i=='E' or i=='I' or i=='O' or i=='U':\n",
    "        c=c+1\n",
    "print(\"the no of vowels in the string is\",c)"
   ]
  },
  {
   "cell_type": "code",
   "execution_count": 5,
   "id": "12c34145",
   "metadata": {},
   "outputs": [
    {
     "name": "stdout",
     "output_type": "stream",
     "text": [
      "enter items: \n",
      "[]\n",
      "empty\n"
     ]
    }
   ],
   "source": [
    "#25. check if list is empty\n",
    "s=input(\"enter items: \")\n",
    "a=list(s)\n",
    "print(a)\n",
    "if len(a)==0:\n",
    "    print(\"empty\")\n",
    "else:\n",
    "    print(\"not empty\")"
   ]
  },
  {
   "cell_type": "code",
   "execution_count": 8,
   "id": "229efdaf",
   "metadata": {},
   "outputs": [
    {
     "name": "stdout",
     "output_type": "stream",
     "text": [
      "enter smth: s\n",
      "enter smth: \n",
      "enter smth: \n",
      "enter smth: \n",
      "non empty\n"
     ]
    }
   ],
   "source": [
    "b=[]\n",
    "for i in range(1,5):\n",
    "    a=input(\"enter smth: \")\n",
    "    b.append(a)\n",
    "if len(b)==0:\n",
    "    print(\"empty\")\n",
    "else:\n",
    "    print(\"non empty\")"
   ]
  },
  {
   "cell_type": "code",
   "execution_count": 13,
   "id": "0a7a3876",
   "metadata": {},
   "outputs": [
    {
     "name": "stdout",
     "output_type": "stream",
     "text": [
      "*\n",
      "**\n",
      "***\n",
      "****\n",
      "*****\n"
     ]
    }
   ],
   "source": [
    "#26.\n",
    "a='*'\n",
    "for i in range(1,6):\n",
    "    print(a)\n",
    "    a=a+'*'\n"
   ]
  },
  {
   "cell_type": "code",
   "execution_count": 14,
   "id": "be6affd8",
   "metadata": {},
   "outputs": [
    {
     "name": "stdout",
     "output_type": "stream",
     "text": [
      "*\n",
      "**\n",
      "***\n",
      "****\n",
      "*****\n"
     ]
    }
   ],
   "source": [
    "for i in range(1,6):\n",
    "    print('*'*i)"
   ]
  },
  {
   "cell_type": "code",
   "execution_count": 20,
   "id": "30131c62",
   "metadata": {},
   "outputs": [
    {
     "name": "stdout",
     "output_type": "stream",
     "text": [
      "maximum value is 4354\n"
     ]
    }
   ],
   "source": [
    "#27. find the maximum value in a list without using the built-in max() function\n",
    "a=[1,34,4354,6,7,53,5]\n",
    "m=a[0]\n",
    "for i in a:\n",
    "    if i>m:\n",
    "        m=i\n",
    "print(\"maximum value is\",m)"
   ]
  },
  {
   "cell_type": "code",
   "execution_count": 6,
   "id": "27ea5fa6",
   "metadata": {},
   "outputs": [
    {
     "name": "stdout",
     "output_type": "stream",
     "text": [
      "enter string: pop\n",
      "palindrome\n"
     ]
    }
   ],
   "source": [
    "#28. Write a program that checks if a given string is a palindrome.\n",
    "a=input(\"enter string: \")\n",
    "m=a\n",
    "r=''\n",
    "for i in range(1,len(a)+1):\n",
    "    r=r+a[-i]\n",
    "if m==r:\n",
    "    print(\"palindrome\")\n",
    "else:\n",
    "    print(\"not palindrome\")"
   ]
  },
  {
   "cell_type": "code",
   "execution_count": 20,
   "id": "ab3866c1",
   "metadata": {},
   "outputs": [
    {
     "name": "stdout",
     "output_type": "stream",
     "text": [
      "210\n"
     ]
    }
   ],
   "source": [
    "#29. Calculate the product of the first five prime numbers \n",
    "a=1\n",
    "p=1\n",
    "for i in range(1,10):\n",
    "    c=0\n",
    "    for j in range(1,i+1):\n",
    "        if i%j==0:\n",
    "            c=c+1\n",
    "    if c<=2:\n",
    "        p=p*i\n",
    "print(p)\n"
   ]
  },
  {
   "cell_type": "code",
   "execution_count": 22,
   "id": "a213d997",
   "metadata": {},
   "outputs": [
    {
     "name": "stdout",
     "output_type": "stream",
     "text": [
      "210\n"
     ]
    }
   ],
   "source": [
    "a=1 #alternate if range is more but we only need first five \n",
    "p=1\n",
    "end=0\n",
    "for i in range(1,100):\n",
    "    c=0\n",
    "    for j in range(1,i+1):\n",
    "        if i%j==0:\n",
    "            c=c+1\n",
    "    if c<=2:\n",
    "        p=p*i\n",
    "        end=end+1\n",
    "    if end==5:\n",
    "        break\n",
    "print(p)\n"
   ]
  },
  {
   "cell_type": "code",
   "execution_count": 10,
   "id": "6bd3010f",
   "metadata": {},
   "outputs": [
    {
     "data": {
      "text/plain": [
       "tuple"
      ]
     },
     "execution_count": 10,
     "metadata": {},
     "output_type": "execute_result"
    }
   ],
   "source": [
    "#30. Create a tuple with the elements 3, \"apple\", and True\n",
    " \n",
    "a=(3, \"apple\", True)\n",
    "type(a)"
   ]
  },
  {
   "cell_type": "code",
   "execution_count": 13,
   "id": "508e3b01",
   "metadata": {},
   "outputs": [
    {
     "name": "stdout",
     "output_type": "stream",
     "text": [
      "enter a no: -9\n",
      "-9 is negative\n"
     ]
    }
   ],
   "source": [
    "#31. checks if a number is positive, negative, or zero.\n",
    "a=int(input(\"enter a no: \"))\n",
    "if a>0:\n",
    "    print(a,\"is positive\")\n",
    "elif a<0:\n",
    "    print(a,\"is negative\")\n",
    "else:\n",
    "    print(a,\"is zero\")"
   ]
  },
  {
   "cell_type": "code",
   "execution_count": 22,
   "id": "50c1e037",
   "metadata": {},
   "outputs": [
    {
     "name": "stdout",
     "output_type": "stream",
     "text": [
      "sum of digit is 6\n"
     ]
    }
   ],
   "source": [
    "#32. sum of the digits of the product of 6 and 7\n",
    "a,b=6,7\n",
    "p=str(6*7)\n",
    "s=0\n",
    "for i in p:\n",
    "    s=s+int(i)\n",
    "print(\"sum of digit is\",s)"
   ]
  },
  {
   "cell_type": "code",
   "execution_count": 25,
   "id": "8374d74c",
   "metadata": {},
   "outputs": [
    {
     "name": "stdout",
     "output_type": "stream",
     "text": [
      "['banana', 'litchi', 'strawberry', 'avocado']\n"
     ]
    }
   ],
   "source": [
    "#33. Remove the element \"apple\" from a list of fruits\n",
    "l=[\"banana\",\"litchi\",\"apple\",\"strawberry\",\"avocado\"]\n",
    "l.remove(\"apple\")\n",
    "print(l)"
   ]
  },
  {
   "cell_type": "code",
   "execution_count": 30,
   "id": "77e10041",
   "metadata": {},
   "outputs": [
    {
     "name": "stdout",
     "output_type": "stream",
     "text": [
      "{'apple': 'red', 'banana': 'yellow', 'watermelon': 'green', 'mango': 'yellow', 'stwarberry': 'red'}\n"
     ]
    }
   ],
   "source": [
    "#34. Create a dictionary with keys as fruits and values as their respective colors\n",
    "d={\n",
    "    \"apple\":\"red\",\n",
    "    \"banana\":\"yellow\",\n",
    "    \"watermelon\":\"green\",\n",
    "    \"mango\":\"yellow\",\n",
    "    \"stwarberry\":\"red\"\n",
    "}\n",
    "print(d)"
   ]
  },
  {
   "cell_type": "code",
   "execution_count": 31,
   "id": "566004cf",
   "metadata": {},
   "outputs": [
    {
     "name": "stdout",
     "output_type": "stream",
     "text": [
      "1\n",
      "2\n",
      "4\n",
      "5\n",
      "7\n",
      "8\n",
      "10\n",
      "11\n",
      "13\n",
      "14\n",
      "16\n",
      "17\n",
      "19\n",
      "20\n"
     ]
    }
   ],
   "source": [
    "#35. print the numbers from 1 to 20, but skip multiples of 3.\n",
    "for i in range(1,21):\n",
    "    if i%3==0:\n",
    "        continue\n",
    "    else:\n",
    "        print(i)\n"
   ]
  },
  {
   "cell_type": "code",
   "execution_count": 23,
   "id": "b7c16796",
   "metadata": {},
   "outputs": [
    {
     "name": "stdout",
     "output_type": "stream",
     "text": [
      "enter a year: 2024\n",
      "leap year\n"
     ]
    }
   ],
   "source": [
    "#36. leap year using function\n",
    "a=int(input(\"enter a year: \"))\n",
    "def leapyr(a):\n",
    "    if a%4==0 and a%100!=0 or a%400==0:\n",
    "        print(\"leap year\")\n",
    "    else:\n",
    "        print(\"not leap year\")\n",
    "leapyr(a)"
   ]
  },
  {
   "cell_type": "code",
   "execution_count": 36,
   "id": "137e71bb",
   "metadata": {},
   "outputs": [
    {
     "name": "stdout",
     "output_type": "stream",
     "text": [
      "HELLO\n"
     ]
    }
   ],
   "source": [
    "#37. Convert the string \"hello\" to uppercase\n",
    "a=\"hello\"\n",
    "print(a.upper())"
   ]
  },
  {
   "cell_type": "code",
   "execution_count": 7,
   "id": "52ee7e60",
   "metadata": {},
   "outputs": [
    {
     "name": "stdout",
     "output_type": "stream",
     "text": [
      "{8, 56, 'fat', 3}\n"
     ]
    }
   ],
   "source": [
    "#38. o find the common elements between two lists.\n",
    "a=[\"app\",8,3,56,9,23,\"fat\"]\n",
    "b=[\"what\",\"oo\",8,3,6,56,\"fat\",2]\n",
    "l=set(a)\n",
    "li=set(b)\n",
    "print(l.intersection(li))"
   ]
  },
  {
   "cell_type": "code",
   "execution_count": 41,
   "id": "f565dacc",
   "metadata": {},
   "outputs": [
    {
     "name": "stdout",
     "output_type": "stream",
     "text": [
      "enter a character: I\n",
      "vowel\n"
     ]
    }
   ],
   "source": [
    "#39. Check if a given character is a vowel.\n",
    "n=input(\"enter a character: \")\n",
    "if n=='a' or n=='e' or n=='i' or n=='o' or n=='u' or n=='A' or n=='E' or n=='I' or n=='O' or n=='U':\n",
    "    print(\"vowel\")"
   ]
  },
  {
   "cell_type": "code",
   "execution_count": 43,
   "id": "902294f6",
   "metadata": {},
   "outputs": [
    {
     "name": "stdout",
     "output_type": "stream",
     "text": [
      "30.959144000000002\n"
     ]
    }
   ],
   "source": [
    "#40.Calculate the area of a circle with radius 3.14\n",
    "r=3.14\n",
    "area=3.14*r*r\n",
    "print(area)"
   ]
  },
  {
   "cell_type": "code",
   "execution_count": 45,
   "id": "6ad503cb",
   "metadata": {},
   "outputs": [
    {
     "name": "stdout",
     "output_type": "stream",
     "text": [
      "sum of even no from 1 to 10 is 30\n"
     ]
    }
   ],
   "source": [
    "#41. Create a program that prints the sum of even numbers from 1 to 10.\n",
    "s=0\n",
    "for i in range(1,11):\n",
    "    if i%2==0:\n",
    "        s=s+i\n",
    "print(\"sum of even no from 1 to 10 is\",s)"
   ]
  },
  {
   "cell_type": "code",
   "execution_count": 4,
   "id": "0ca5adf5",
   "metadata": {},
   "outputs": [
    {
     "name": "stdout",
     "output_type": "stream",
     "text": [
      "enter a no: 45\n",
      "not perfect square\n"
     ]
    }
   ],
   "source": [
    "#42. Check if a number is a perfect square.\n",
    "a=int(input(\"enter a no: \"))\n",
    "if a**0.5==int(a**0.5):\n",
    "    print(\"perfect square\")\n",
    "else:\n",
    "    print(\"not perfect square\")"
   ]
  },
  {
   "cell_type": "code",
   "execution_count": 3,
   "id": "f2f0a447",
   "metadata": {},
   "outputs": [
    {
     "name": "stdout",
     "output_type": "stream",
     "text": [
      "[9, 2, 3, 4, 5, 6, 7, 8, 1]\n"
     ]
    }
   ],
   "source": [
    "#43. swap the first and last elements of a list.\n",
    "a=[1,2,3,4,5,6,7,8,9]\n",
    "c=a[0]\n",
    "a[0]=a[-1]\n",
    "a[-1]=c\n",
    "print(a)\n"
   ]
  },
  {
   "cell_type": "code",
   "execution_count": 18,
   "id": "0a35c84c",
   "metadata": {},
   "outputs": [
    {
     "name": "stdout",
     "output_type": "stream",
     "text": [
      "362880\n"
     ]
    }
   ],
   "source": [
    "#44. Calculate the factorial of the sum of 4 and 5\n",
    "a,b=4,5\n",
    "s=a+b\n",
    "f=1\n",
    "for i in range(1,s+1):\n",
    "    f=f*i\n",
    "print(f)"
   ]
  },
  {
   "cell_type": "code",
   "execution_count": 16,
   "id": "12fd8589",
   "metadata": {},
   "outputs": [
    {
     "name": "stdout",
     "output_type": "stream",
     "text": [
      "enter first no: 4\n",
      "enter 2nd no: 5\n",
      "sum is 9\n"
     ]
    }
   ],
   "source": [
    "#45. Write a function that takes two numbers as parameters and returns their sum.\n",
    "def sum(a,b):\n",
    "    s=a+b\n",
    "    print(\"sum is\",s)\n",
    "a=int(input(\"enter first no: \"))\n",
    "b=int(input(\"enter 2nd no: \"))\n",
    "sum(a,b)"
   ]
  },
  {
   "cell_type": "code",
   "execution_count": 12,
   "id": "190841aa",
   "metadata": {},
   "outputs": [
    {
     "name": "stdout",
     "output_type": "stream",
     "text": [
      "unique elements\n",
      "unique elements\n",
      "unique elements\n",
      "unique elements\n",
      "unique elements\n",
      "unique elements\n",
      "unique elements\n",
      "not unique elements\n",
      "not unique elements\n",
      "unique elements\n",
      "not unique elements\n"
     ]
    }
   ],
   "source": [
    "#46. Check if a list contains only unique elements.\n",
    "a=[1,2,3,4,5,6,7,4,2,9,6]\n",
    "b=[]\n",
    "for i in a:\n",
    "    if i not in b:\n",
    "        b.append(i)\n",
    "        print(\"unique elements\")\n",
    "    else:\n",
    "        print(\"not unique elements\")\n",
    "    "
   ]
  },
  {
   "cell_type": "code",
   "execution_count": 24,
   "id": "bb3edd31",
   "metadata": {},
   "outputs": [
    {
     "name": "stdout",
     "output_type": "stream",
     "text": [
      "not unique\n"
     ]
    }
   ],
   "source": [
    "a=[1,2,3,4,5,6,7,4,2,9,6]\n",
    "b=[]\n",
    "for i in a:\n",
    "    p=a.pop() #deletes last value and returns it as well so we can store that value \n",
    "    if p not in a:\n",
    "        b.append(p)\n",
    "if len(a)!=len(b):\n",
    "    print(\"not unique\")\n",
    "else:\n",
    "    print(\"unique\")\n",
    "    \n",
    "        "
   ]
  },
  {
   "cell_type": "code",
   "execution_count": 19,
   "id": "d6f44fe2",
   "metadata": {},
   "outputs": [
    {
     "name": "stdout",
     "output_type": "stream",
     "text": [
      "1\n",
      "2\n",
      "3\n",
      "5\n",
      "8\n",
      "13\n",
      "21\n",
      "34\n",
      "55\n",
      "89\n"
     ]
    }
   ],
   "source": [
    "#47. Create a program that prints the Fibonacci series up to 10 terms.\n",
    "a=1\n",
    "b=2\n",
    "print(a)\n",
    "print(b)\n",
    "for i in range(1,9):\n",
    "    c=a+b\n",
    "    print(c)\n",
    "    a=b\n",
    "    b=c"
   ]
  },
  {
   "cell_type": "code",
   "execution_count": 17,
   "id": "66150327",
   "metadata": {},
   "outputs": [],
   "source": [
    "#48. Write a program that generates a random password of length 8 containing letters and digits.\n",
    "import random"
   ]
  },
  {
   "cell_type": "code",
   "execution_count": 21,
   "id": "c1229b73",
   "metadata": {},
   "outputs": [
    {
     "name": "stdout",
     "output_type": "stream",
     "text": [
      "enter a no: 6\n",
      "divisible by both 2 and 3\n"
     ]
    }
   ],
   "source": [
    "#49. Write a program that checks if a number is divisible by both 2 and 3.\n",
    "a=int(input(\"enter a no: \"))\n",
    "if a%2==0 and a%3==0:\n",
    "    print(\"divisible by both 2 and 3\")\n",
    "else:\n",
    "    print(\"not divisible by both 2 and 3\")\n"
   ]
  },
  {
   "cell_type": "code",
   "execution_count": 18,
   "id": "3a626104",
   "metadata": {},
   "outputs": [
    {
     "name": "stdout",
     "output_type": "stream",
     "text": [
      "1\n",
      "4\n",
      "9\n",
      "16\n",
      "25\n"
     ]
    }
   ],
   "source": [
    "#50. Create a program that prints the square of numbers from 1 to 5 in a formatted way\n",
    "for i in range(1,6):\n",
    "    print(i**2)"
   ]
  },
  {
   "cell_type": "code",
   "execution_count": null,
   "id": "5341d3e1",
   "metadata": {},
   "outputs": [],
   "source": []
  }
 ],
 "metadata": {
  "kernelspec": {
   "display_name": "Python 3 (ipykernel)",
   "language": "python",
   "name": "python3"
  },
  "language_info": {
   "codemirror_mode": {
    "name": "ipython",
    "version": 3
   },
   "file_extension": ".py",
   "mimetype": "text/x-python",
   "name": "python",
   "nbconvert_exporter": "python",
   "pygments_lexer": "ipython3",
   "version": "3.11.5"
  }
 },
 "nbformat": 4,
 "nbformat_minor": 5
}
