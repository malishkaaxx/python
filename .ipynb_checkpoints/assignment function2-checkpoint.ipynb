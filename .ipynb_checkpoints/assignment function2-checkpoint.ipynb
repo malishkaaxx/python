{
 "cells": [
  {
   "cell_type": "code",
   "execution_count": 2,
   "id": "6b0d891f",
   "metadata": {},
   "outputs": [
    {
     "name": "stdout",
     "output_type": "stream",
     "text": [
      "enter a no8\n"
     ]
    },
    {
     "data": {
      "text/plain": [
       "64"
      ]
     },
     "execution_count": 2,
     "metadata": {},
     "output_type": "execute_result"
    }
   ],
   "source": [
    "#Write a Python function that takes a single argument and returns its square.\n",
    "def squ(n):\n",
    "    s=pow(n,2)\n",
    "    return s\n",
    "n=int(input(\"enter a no\"))\n",
    "squ(n)"
   ]
  },
  {
   "cell_type": "code",
   "execution_count": 4,
   "id": "826ea707",
   "metadata": {},
   "outputs": [
    {
     "name": "stdout",
     "output_type": "stream",
     "text": [
      "enter name\n",
      "hello, world\n"
     ]
    }
   ],
   "source": [
    "#Create a Python function named 'greet' that takes a name as an argument and prints \"Hello, [name]!\" If no name is provided, it should print \"Hello, World!\".\n",
    "def greet(name):\n",
    "    if len(name)!=0:\n",
    "        print(\"hello,\",name)\n",
    "    else:\n",
    "        print(\"hello, world\")\n",
    "name=input(\"enter name\")\n",
    "greet(name)\n",
    "    "
   ]
  },
  {
   "cell_type": "code",
   "execution_count": null,
   "id": "14c5549f",
   "metadata": {},
   "outputs": [],
   "source": [
    "#Define a Python function called 'calculate_total' that calculates the total cost of items in a shopping cart.\n",
    "price=int(input(\"enter cost of items: \"))\n",
    "def calculate_total(price): #idkk\n",
    "    total=total+price"
   ]
  },
  {
   "cell_type": "code",
   "execution_count": 22,
   "id": "873d039b",
   "metadata": {},
   "outputs": [
    {
     "name": "stdout",
     "output_type": "stream",
     "text": [
      "enter name: mili\n",
      "enter age: 32432\n",
      "\n",
      " Name: mili\n",
      "\n",
      " Name: mili \n",
      " Age: 32432\n"
     ]
    }
   ],
   "source": [
    "#Implement two Python functions: one named 'print_info' which only takes one argument (name) and prints \"Name: [name]\", and another function named 'print_details' which takes both 'name' and 'age' as keyword arguments and prints \"Name: [name], Age: [age]\".\n",
    "def print_info(name):\n",
    "    print(\"\\n Name:\",name)\n",
    "def print_details(name,age):\n",
    "    print(f\"\\n Name: {name} \\n Age: {age}\")\n",
    "name=input(\"enter name: \")\n",
    "age=int(input(\"enter age: \"))\n",
    "print_info(name)\n",
    "print_details(name,age)"
   ]
  },
  {
   "cell_type": "code",
   "execution_count": 7,
   "id": "d65a1f44",
   "metadata": {},
   "outputs": [
    {
     "name": "stdout",
     "output_type": "stream",
     "text": [
      "enter original price: 6400\n",
      "The discounted price is: 640.0\n"
     ]
    }
   ],
   "source": [
    "#Write a Python function called 'calculate_discounted_price' that calculates the discounted price of a product. The function should take the original price as a single argument and apply a default discount of 10%.\n",
    "cp=int(input(\"enter original price: \"))\n",
    "def calculate_discounted_price(cp):\n",
    "    global d\n",
    "    d=10/100*cp\n",
    "    print(\"The discounted price is:\",d)\n",
    "calculate_discounted_price(cp)\n",
    "    "
   ]
  },
  {
   "cell_type": "code",
   "execution_count": 8,
   "id": "2b2a1c27",
   "metadata": {},
   "outputs": [
    {
     "name": "stdout",
     "output_type": "stream",
     "text": [
      "enter: jasa\n",
      "('jasa',)\n"
     ]
    }
   ],
   "source": [
    "#Create a Python function named 'print_items' that accepts any number of arguments and prints each item on a new line.\n",
    "def print_items(*item):\n",
    "    print(item)\n",
    "item=input(\"enter: \") #idkk\n",
    "print_items(item)"
   ]
  },
  {
   "cell_type": "code",
   "execution_count": 15,
   "id": "7202397d",
   "metadata": {},
   "outputs": [
    {
     "name": "stdout",
     "output_type": "stream",
     "text": [
      "enter name: mili\n",
      "enter age: 16\n",
      "enter gender: female\n",
      "{'Name': 'mili', 'Age': '16', 'Gender': 'female'}\n"
     ]
    }
   ],
   "source": [
    "#Define a Python function called 'create_person' that accepts keyword arguments such as 'name', 'age', and 'gender', and returns a dictionary containing these details.\n",
    "name=input(\"enter name: \")\n",
    "age=input(\"enter age: \")\n",
    "gender=input(\"enter gender: \")\n",
    "def create_person(name,age,gender):\n",
    "    global dict\n",
    "    dict={\"Name\":\"\",\n",
    "         \"Age\":0,\n",
    "         \"Gender\":\"\"}\n",
    "    dict[\"Name\"]=name\n",
    "    dict[\"Age\"]=age\n",
    "    dict[\"Gender\"]=gender\n",
    "    print(dict)\n",
    "create_person(name,age,gender)"
   ]
  },
  {
   "cell_type": "code",
   "execution_count": 18,
   "id": "51b3ea8b",
   "metadata": {},
   "outputs": [
    {
     "name": "stdout",
     "output_type": "stream",
     "text": [
      "enter length: 4\n",
      "enter breadth: 3\n",
      "area of rectangle is 12\n"
     ]
    }
   ],
   "source": [
    "#Write a Python function named 'calculate_area' that calculates the area of a rectangle. It should accept the dimensions as either positional arguments (length and width) or as keyword arguments (length=, width=).\n",
    "\n",
    "l=int(input(\"enter length: \"))\n",
    "b=int(input(\"enter breadth: \"))\n",
    "def calculate_area(l,b):\n",
    "    global a\n",
    "    a=l*b\n",
    "    print(\"area of rectangle is\",a)\n",
    "calculate_area(l,b) #l=int(input(\"enter length:\")),b=int(input(\"enter breadth:\"))\n",
    "    "
   ]
  },
  {
   "cell_type": "code",
   "execution_count": 20,
   "id": "eeb92df0",
   "metadata": {},
   "outputs": [
    {
     "name": "stdout",
     "output_type": "stream",
     "text": [
      "enter name of reciever: tauko\n",
      "enter subject: learn stuff\n",
      "enter message: asudas dsd adsdu sadadsauduasdi98r9ufjsd \n",
      "\n",
      " EMAIL\n",
      "Recipient: tauko\n",
      "Subject: learn stuff\n",
      "Message: asudas dsd adsdu sadadsauduasdi98r9ufjsd \n"
     ]
    }
   ],
   "source": [
    "#Implement a Python function named 'send_email' that accepts keyword arguments such as 'recipient', 'subject', and 'message', and simulates sending an email using these details.\n",
    "recipient=input(\"enter name of reciever: \")\n",
    "subject=input(\"enter subject: \")\n",
    "message=input(\"enter message: \")\n",
    "def send_email(recipient,subject,message):\n",
    "    print(\"\\n EMAIL\")\n",
    "    print(\"Recipient:\",recipient)\n",
    "    print(\"Subject:\",subject)\n",
    "    print(\"Message:\",message)\n",
    "send_email(recipient,subject,message)"
   ]
  },
  {
   "cell_type": "code",
   "execution_count": null,
   "id": "fb7cf82b",
   "metadata": {},
   "outputs": [],
   "source": [
    "#create a Python function called 'average' that accepts any number of arguments and returns their average\n",
    "a=input(\"enter numbers: \")\n",
    "\n",
    "def avg(a):\n"
   ]
  }
 ],
 "metadata": {
  "kernelspec": {
   "display_name": "Python 3 (ipykernel)",
   "language": "python",
   "name": "python3"
  },
  "language_info": {
   "codemirror_mode": {
    "name": "ipython",
    "version": 3
   },
   "file_extension": ".py",
   "mimetype": "text/x-python",
   "name": "python",
   "nbconvert_exporter": "python",
   "pygments_lexer": "ipython3",
   "version": "3.11.5"
  }
 },
 "nbformat": 4,
 "nbformat_minor": 5
}
