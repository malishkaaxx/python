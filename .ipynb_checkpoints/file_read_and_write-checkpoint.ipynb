{
 "cells": [
  {
   "cell_type": "code",
   "execution_count": 18,
   "id": "172edd0c",
   "metadata": {},
   "outputs": [
    {
     "name": "stdout",
     "output_type": "stream",
     "text": [
      " Volume in drive C is OS\n",
      " Volume Serial Number is 0278-0BD1\n",
      "\n",
      " Directory of C:\\Users\\nisha\\Documents\\datasc\\python1\n",
      "\n",
      "19/02/2024  10:11    <DIR>          .\n",
      "19/02/2024  10:03    <DIR>          ..\n",
      "17/02/2024  22:01                66 .gitattributes\n",
      "19/02/2024  10:06    <DIR>          .ipynb_checkpoints\n",
      "13/02/2024  10:13            10,539 assignment function .ipynb\n",
      "12/02/2024  23:21             3,037 assignment function .py\n",
      "15/02/2024  10:14            10,508 assignment function2.ipynb\n",
      "13/02/2024  23:38             3,476 assignment function2.py\n",
      "08/02/2024  10:21             9,594 assignment1 Malishka Tandukar.ipynb\n",
      "12/02/2024  11:22            19,757 assignment2 upto 40.ipynb\n",
      "10/02/2024  21:56             3,935 assignment2 upto 40.py\n",
      "11/02/2024  19:35             5,955 assignment2 upto 50.py\n",
      "19/02/2024  10:10             3,057 file_read_and_write.ipynb\n",
      "02/02/2024  10:03            76,697 firstclass.ipynb\n",
      "16/02/2024  10:52             7,683 function.ipynb\n",
      "19/02/2024  09:54             9,794 guess game.ipynb\n",
      "08/02/2024  11:22             8,186 looping.ipynb\n",
      "19/02/2024  10:10               171 test1.txt\n",
      "              15 File(s)        172,455 bytes\n",
      "               3 Dir(s)  188,695,969,792 bytes free\n"
     ]
    }
   ],
   "source": [
    "!dir\n",
    "#to see directory of the file we are about to open"
   ]
  },
  {
   "cell_type": "code",
   "execution_count": 33,
   "id": "90f15ea0",
   "metadata": {},
   "outputs": [],
   "source": [
    "f=open(\"test1.txt\",'w') #open bhitra tyo doc ko location, w allows to write data into the doc"
   ]
  },
  {
   "cell_type": "code",
   "execution_count": 20,
   "id": "f14cd0d6",
   "metadata": {},
   "outputs": [
    {
     "data": {
      "text/plain": [
       "\"some texts needed to be written so hahahahahahahahahahh\\nguess whos backk\\nbackk again\\nshady's backk\\ntell a friend\\nguess whos back\\nguess whos back\\nguess whos back\\nahahahaha\\n\""
      ]
     },
     "execution_count": 20,
     "metadata": {},
     "output_type": "execute_result"
    }
   ],
   "source": [
    "f.read() #to read the data"
   ]
  },
  {
   "cell_type": "code",
   "execution_count": 22,
   "id": "45dc1ab9",
   "metadata": {},
   "outputs": [
    {
     "data": {
      "text/plain": [
       "''"
      ]
     },
     "execution_count": 22,
     "metadata": {},
     "output_type": "execute_result"
    }
   ],
   "source": [
    "f.read(4) #we can also pass parameter but dk why its not working"
   ]
  },
  {
   "cell_type": "code",
   "execution_count": 31,
   "id": "772d2049",
   "metadata": {},
   "outputs": [
    {
     "data": {
      "text/plain": [
       "'some '"
      ]
     },
     "execution_count": 31,
     "metadata": {},
     "output_type": "execute_result"
    }
   ],
   "source": [
    "f.readline(5) #reads first 5 characters. f.readline(n) reads n no. of characters "
   ]
  },
  {
   "cell_type": "code",
   "execution_count": 34,
   "id": "a2484ce3",
   "metadata": {},
   "outputs": [
    {
     "data": {
      "text/plain": [
       "11"
      ]
     },
     "execution_count": 34,
     "metadata": {},
     "output_type": "execute_result"
    }
   ],
   "source": [
    "f.write(\"hello world\") #to overwrite some data, it replaces all the data with \"hello world\". after write always close the file"
   ]
  },
  {
   "cell_type": "code",
   "execution_count": 35,
   "id": "23263b74",
   "metadata": {},
   "outputs": [],
   "source": [
    "f.close() #to close the file"
   ]
  },
  {
   "cell_type": "code",
   "execution_count": 36,
   "id": "3a7d67b2",
   "metadata": {},
   "outputs": [],
   "source": [
    "f=open(\"test1.txt\",'a') #a denotes append. append adds some new data at the last of the doc without replacing"
   ]
  },
  {
   "cell_type": "code",
   "execution_count": 37,
   "id": "cfd578ce",
   "metadata": {},
   "outputs": [
    {
     "data": {
      "text/plain": [
       "9"
      ]
     },
     "execution_count": 37,
     "metadata": {},
     "output_type": "execute_result"
    }
   ],
   "source": [
    "f.write(\"hello bye\")"
   ]
  },
  {
   "cell_type": "code",
   "execution_count": 38,
   "id": "a6a3d4cf",
   "metadata": {},
   "outputs": [],
   "source": [
    "f.close()"
   ]
  },
  {
   "cell_type": "code",
   "execution_count": 48,
   "id": "e85ca4ff",
   "metadata": {},
   "outputs": [],
   "source": [
    "f=open(\"test1.txt\",'r')"
   ]
  },
  {
   "cell_type": "code",
   "execution_count": 49,
   "id": "b82f8b8a",
   "metadata": {},
   "outputs": [
    {
     "data": {
      "text/plain": [
       "'he'"
      ]
     },
     "execution_count": 49,
     "metadata": {},
     "output_type": "execute_result"
    }
   ],
   "source": [
    "f.read(2)"
   ]
  },
  {
   "cell_type": "code",
   "execution_count": 50,
   "id": "bcf579f4",
   "metadata": {},
   "outputs": [],
   "source": [
    "f.close()"
   ]
  },
  {
   "cell_type": "code",
   "execution_count": 39,
   "id": "46986b6e",
   "metadata": {},
   "outputs": [],
   "source": [
    "f=open(\"kmc.txt\",'a') #creates new file named kmc "
   ]
  },
  {
   "cell_type": "code",
   "execution_count": 40,
   "id": "f7795c7d",
   "metadata": {},
   "outputs": [
    {
     "name": "stdout",
     "output_type": "stream",
     "text": [
      " Volume in drive C is OS\n",
      " Volume Serial Number is 0278-0BD1\n",
      "\n",
      " Directory of C:\\Users\\nisha\\Documents\\datasc\\python1\n",
      "\n",
      "19/02/2024  10:25    <DIR>          .\n",
      "19/02/2024  10:03    <DIR>          ..\n",
      "17/02/2024  22:01                66 .gitattributes\n",
      "19/02/2024  10:06    <DIR>          .ipynb_checkpoints\n",
      "13/02/2024  10:13            10,539 assignment function .ipynb\n",
      "12/02/2024  23:21             3,037 assignment function .py\n",
      "15/02/2024  10:14            10,508 assignment function2.ipynb\n",
      "13/02/2024  23:38             3,476 assignment function2.py\n",
      "08/02/2024  10:21             9,594 assignment1 Malishka Tandukar.ipynb\n",
      "12/02/2024  11:22            19,757 assignment2 upto 40.ipynb\n",
      "10/02/2024  21:56             3,935 assignment2 upto 40.py\n",
      "11/02/2024  19:35             5,955 assignment2 upto 50.py\n",
      "19/02/2024  10:24             5,252 file_read_and_write.ipynb\n",
      "02/02/2024  10:03            76,697 firstclass.ipynb\n",
      "16/02/2024  10:52             7,683 function.ipynb\n",
      "19/02/2024  09:54             9,794 guess game.ipynb\n",
      "19/02/2024  10:25                 0 kmc.txt\n",
      "08/02/2024  11:22             8,186 looping.ipynb\n",
      "19/02/2024  10:23                20 test1.txt\n",
      "              16 File(s)        174,499 bytes\n",
      "               3 Dir(s)  188,693,602,304 bytes free\n"
     ]
    }
   ],
   "source": [
    "!dir"
   ]
  },
  {
   "cell_type": "code",
   "execution_count": 43,
   "id": "c3cccf45",
   "metadata": {},
   "outputs": [
    {
     "ename": "AttributeError",
     "evalue": "'_io.TextIOWrapper' object has no attribute 'open'",
     "output_type": "error",
     "traceback": [
      "\u001b[1;31m---------------------------------------------------------------------------\u001b[0m",
      "\u001b[1;31mAttributeError\u001b[0m                            Traceback (most recent call last)",
      "Cell \u001b[1;32mIn[43], line 1\u001b[0m\n\u001b[1;32m----> 1\u001b[0m f\u001b[38;5;241m.\u001b[39mopen(\u001b[38;5;124m\"\u001b[39m\u001b[38;5;124mkmc.txt\u001b[39m\u001b[38;5;124m\"\u001b[39m,\u001b[38;5;124m'\u001b[39m\u001b[38;5;124mx\u001b[39m\u001b[38;5;124m'\u001b[39m)\n",
      "\u001b[1;31mAttributeError\u001b[0m: '_io.TextIOWrapper' object has no attribute 'open'"
     ]
    }
   ],
   "source": [
    "f.open(\"kmc.txt\",'x')"
   ]
  },
  {
   "cell_type": "code",
   "execution_count": 45,
   "id": "92b369c3",
   "metadata": {},
   "outputs": [],
   "source": [
    "f.close()"
   ]
  },
  {
   "cell_type": "code",
   "execution_count": 46,
   "id": "4b04f596",
   "metadata": {},
   "outputs": [],
   "source": [
    "import os\n",
    "os.remove(\"kmc.txt\") #removed kmc file"
   ]
  },
  {
   "cell_type": "code",
   "execution_count": 47,
   "id": "d25661da",
   "metadata": {},
   "outputs": [
    {
     "name": "stdout",
     "output_type": "stream",
     "text": [
      " Volume in drive C is OS\n",
      " Volume Serial Number is 0278-0BD1\n",
      "\n",
      " Directory of C:\\Users\\nisha\\Documents\\datasc\\python1\n",
      "\n",
      "19/02/2024  10:28    <DIR>          .\n",
      "19/02/2024  10:03    <DIR>          ..\n",
      "17/02/2024  22:01                66 .gitattributes\n",
      "19/02/2024  10:06    <DIR>          .ipynb_checkpoints\n",
      "13/02/2024  10:13            10,539 assignment function .ipynb\n",
      "12/02/2024  23:21             3,037 assignment function .py\n",
      "15/02/2024  10:14            10,508 assignment function2.ipynb\n",
      "13/02/2024  23:38             3,476 assignment function2.py\n",
      "08/02/2024  10:21             9,594 assignment1 Malishka Tandukar.ipynb\n",
      "12/02/2024  11:22            19,757 assignment2 upto 40.ipynb\n",
      "10/02/2024  21:56             3,935 assignment2 upto 40.py\n",
      "11/02/2024  19:35             5,955 assignment2 upto 50.py\n",
      "19/02/2024  10:26             8,183 file_read_and_write.ipynb\n",
      "02/02/2024  10:03            76,697 firstclass.ipynb\n",
      "16/02/2024  10:52             7,683 function.ipynb\n",
      "19/02/2024  09:54             9,794 guess game.ipynb\n",
      "08/02/2024  11:22             8,186 looping.ipynb\n",
      "19/02/2024  10:23                20 test1.txt\n",
      "              15 File(s)        177,430 bytes\n",
      "               3 Dir(s)  188,690,219,008 bytes free\n"
     ]
    }
   ],
   "source": [
    "!dir"
   ]
  },
  {
   "cell_type": "markdown",
   "id": "1a72eda8",
   "metadata": {},
   "source": [
    "### marks sheet"
   ]
  },
  {
   "cell_type": "code",
   "execution_count": 27,
   "id": "0619189c",
   "metadata": {},
   "outputs": [
    {
     "ename": "SyntaxError",
     "evalue": "invalid syntax (3442045749.py, line 7)",
     "output_type": "error",
     "traceback": [
      "\u001b[1;36m  Cell \u001b[1;32mIn[27], line 7\u001b[1;36m\u001b[0m\n\u001b[1;33m    dict=[\"Physics\":\"\",\u001b[0m\n\u001b[1;37m                   ^\u001b[0m\n\u001b[1;31mSyntaxError\u001b[0m\u001b[1;31m:\u001b[0m invalid syntax\n"
     ]
    }
   ],
   "source": [
    "def user_detail():\n",
    "    date=input(\"date: \")\n",
    "    name=input(\"enter ur name: \")\n",
    "    cls=input(\"enter class: \")\n",
    "    stream=input(\"enter stream: \")\n",
    "    sec=input(\"enter section: \")\n",
    "    dict=[\"Physics\":\"\",\n",
    "         \"Chemistry\":\"\",\n",
    "         \"Maths\":\"\",\n",
    "         \"English\":\"\",\n",
    "         \"Nepali\":\"\",\n",
    "         \"Comp\":\"\"]\n",
    "    \n",
    "    dict[\"Physics\"]=phy\n",
    "    \n",
    "    date=input(\"date: \")\n",
    "    nep=input(\"enter marks in nepali: \")\n",
    "    phy=input(\"enter marks in physics: \")\n",
    "    chem=input(\"enter marks in chemistry: \")\n",
    "    math=input(\"enter marks in maths: \")\n",
    "    comp=input(\"enter marks in computer: \")\n",
    "    total=eng+nep+phy+chem+math+comp\n",
    "    per=(total)/700*100\n",
    "    return name,cls"
   ]
  },
  {
   "cell_type": "code",
   "execution_count": 25,
   "id": "797e7122",
   "metadata": {},
   "outputs": [
    {
     "name": "stdout",
     "output_type": "stream",
     "text": [
      "\t\t\t\t\t\tKMC College\n",
      "\t\t\t\t\t    Bagbazar,Kathmandu\n",
      "date: 2024/12/3\n",
      "\t\t\t\t\t\tMarksheet\n"
     ]
    }
   ],
   "source": [
    "print(\"\\t\\t\\t\\t\\t\\tKMC College\")\n",
    "print(\"\\t\\t\\t\\t\\t    Bagbazar,Kathmandu\")\n",
    "\n",
    "print(\"date:\",date)\n",
    "print(\"\\t\\t\\t\\t\\t\\tMarksheet\")\n",
    "print(\"Name:\",name)\n",
    "print(\"Class:\",cls)\n",
    "print(\"Stream:\",stream)\n",
    "print(\"Section:\",sec)\n"
   ]
  },
  {
   "cell_type": "code",
   "execution_count": 11,
   "id": "497bb6f0",
   "metadata": {},
   "outputs": [
    {
     "data": {
      "text/plain": [
       "1"
      ]
     },
     "execution_count": 11,
     "metadata": {},
     "output_type": "execute_result"
    }
   ],
   "source": [
    "\n"
   ]
  },
  {
   "cell_type": "code",
   "execution_count": 12,
   "id": "1ccf9ceb",
   "metadata": {},
   "outputs": [],
   "source": [
    "\n"
   ]
  },
  {
   "cell_type": "code",
   "execution_count": 13,
   "id": "8929a8f3",
   "metadata": {},
   "outputs": [],
   "source": [
    "#dict.keys\n",
    "#print(f\"{dict[keys]}\")"
   ]
  },
  {
   "cell_type": "code",
   "execution_count": null,
   "id": "0be89eb4",
   "metadata": {},
   "outputs": [],
   "source": []
  }
 ],
 "metadata": {
  "kernelspec": {
   "display_name": "Python 3 (ipykernel)",
   "language": "python",
   "name": "python3"
  },
  "language_info": {
   "codemirror_mode": {
    "name": "ipython",
    "version": 3
   },
   "file_extension": ".py",
   "mimetype": "text/x-python",
   "name": "python",
   "nbconvert_exporter": "python",
   "pygments_lexer": "ipython3",
   "version": "3.11.5"
  }
 },
 "nbformat": 4,
 "nbformat_minor": 5
}
