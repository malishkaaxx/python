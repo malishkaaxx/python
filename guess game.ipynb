{
 "cells": [
  {
   "cell_type": "code",
   "execution_count": 1,
   "id": "a2211b12",
   "metadata": {},
   "outputs": [
    {
     "name": "stdout",
     "output_type": "stream",
     "text": [
      "GUESS GAME \n",
      "Its a fruit.\n",
      "guess the word: apple\n",
      "hint: first letter is a \n",
      "remaining attempts: 2\n",
      "guess the word: avocado\n",
      "CORRECT!! You win\n",
      "Enter r for restart and e for exit: e\n",
      "Thanks for playing!!\n"
     ]
    }
   ],
   "source": [
    "a=\"avocado\"\n",
    "print(\"GUESS GAME \\nIts a fruit.\")\n",
    "def game(a):\n",
    "    global attempt\n",
    "    attempt=3\n",
    "    for i in range(attempt):\n",
    "        u=input(\"guess the word: \")\n",
    "        if attempt==3:\n",
    "            if u==a.upper() or u==a.lower():\n",
    "                print(\"CORRECT!! You win\")\n",
    "                break\n",
    "            else:\n",
    "                print(\"hint: first letter is a \")\n",
    "                attempt=attempt-1\n",
    "                print(\"remaining attempts:\",attempt)\n",
    "                \n",
    "        elif attempt==2:\n",
    "            if u==a.upper() or u==a.lower():\n",
    "                print(\"CORRECT!! You win\")\n",
    "                break\n",
    "            else:\n",
    "                print(\"hint: It contains 8 letters.\")\n",
    "                attempt=attempt-1\n",
    "                print(\"remaining attempts:\",attempt)\n",
    "                \n",
    "        else:\n",
    "            if u==a.upper() or u==a.lower():\n",
    "                print(\"CORRECT!! You win\")\n",
    "                break\n",
    "            else:\n",
    "                print(\"reamining attempts: 0\")\n",
    "                print(\"YOU LOSE!!\")\n",
    "    global re\n",
    "    re=input(\"Enter r for restart and e for exit: \")\n",
    "game(a)\n",
    "while re==\"r\":\n",
    "    game(a)\n",
    "\n",
    "print(\"Thanks for playing!!\")\n"
   ]
  },
  {
   "cell_type": "code",
   "execution_count": 2,
   "id": "3d6be341",
   "metadata": {},
   "outputs": [
    {
     "name": "stdout",
     "output_type": "stream",
     "text": [
      "GUESS GAME \n",
      "Its a fruit.\n",
      "level: 1\n",
      "guess the word: as\n"
     ]
    },
    {
     "ename": "AttributeError",
     "evalue": "'list' object has no attribute 'upper'",
     "output_type": "error",
     "traceback": [
      "\u001b[1;31m---------------------------------------------------------------------------\u001b[0m",
      "\u001b[1;31mAttributeError\u001b[0m                            Traceback (most recent call last)",
      "Cell \u001b[1;32mIn[2], line 38\u001b[0m\n\u001b[0;32m     36\u001b[0m     \u001b[38;5;28;01mglobal\u001b[39;00m re\n\u001b[0;32m     37\u001b[0m     re\u001b[38;5;241m=\u001b[39m\u001b[38;5;28minput\u001b[39m(\u001b[38;5;124m\"\u001b[39m\u001b[38;5;124mEnter r for restart and e for exit: \u001b[39m\u001b[38;5;124m\"\u001b[39m)\n\u001b[1;32m---> 38\u001b[0m game(a)\n\u001b[0;32m     39\u001b[0m \u001b[38;5;28;01mwhile\u001b[39;00m re\u001b[38;5;241m==\u001b[39m\u001b[38;5;124m\"\u001b[39m\u001b[38;5;124mr\u001b[39m\u001b[38;5;124m\"\u001b[39m:\n\u001b[0;32m     40\u001b[0m     level\u001b[38;5;241m=\u001b[39mlevel\u001b[38;5;241m+\u001b[39m\u001b[38;5;241m1\u001b[39m\n",
      "Cell \u001b[1;32mIn[2], line 12\u001b[0m, in \u001b[0;36mgame\u001b[1;34m(a)\u001b[0m\n\u001b[0;32m     10\u001b[0m u\u001b[38;5;241m=\u001b[39m\u001b[38;5;28minput\u001b[39m(\u001b[38;5;124m\"\u001b[39m\u001b[38;5;124mguess the word: \u001b[39m\u001b[38;5;124m\"\u001b[39m)\n\u001b[0;32m     11\u001b[0m \u001b[38;5;28;01mif\u001b[39;00m attempt\u001b[38;5;241m==\u001b[39m\u001b[38;5;241m3\u001b[39m:\n\u001b[1;32m---> 12\u001b[0m     \u001b[38;5;28;01mif\u001b[39;00m u\u001b[38;5;241m==\u001b[39ma\u001b[38;5;241m.\u001b[39mupper() \u001b[38;5;129;01mor\u001b[39;00m u\u001b[38;5;241m==\u001b[39ma\u001b[38;5;241m.\u001b[39mlower():\n\u001b[0;32m     13\u001b[0m         \u001b[38;5;28mprint\u001b[39m(\u001b[38;5;124m\"\u001b[39m\u001b[38;5;124mCORRECT!! You win\u001b[39m\u001b[38;5;124m\"\u001b[39m)\n\u001b[0;32m     14\u001b[0m         \u001b[38;5;28;01mbreak\u001b[39;00m\n",
      "\u001b[1;31mAttributeError\u001b[0m: 'list' object has no attribute 'upper'"
     ]
    }
   ],
   "source": [
    "a=[\"avocado\",\"discipline\",\"verb\",\"eren yeager\"]\n",
    "\n",
    "print(\"GUESS GAME \\nIts a fruit.\")\n",
    "def game(a):\n",
    "    level=1\n",
    "    print(\"level:\",level)\n",
    "    global attempt\n",
    "    attempt=3\n",
    "    for i in range(attempt):\n",
    "        u=input(\"guess the word: \")\n",
    "        if attempt==3:\n",
    "            if u==a.upper() or u==a.lower():\n",
    "                print(\"CORRECT!! You win\")\n",
    "                break\n",
    "            else:\n",
    "                print(\"hint: first letter is a \")\n",
    "                attempt=attempt-1\n",
    "                print(\"remaining attempts:\",attempt)\n",
    "                \n",
    "        elif attempt==2:\n",
    "            if u==a.upper() or u==a.lower():\n",
    "                print(\"CORRECT!! You win\")\n",
    "                break\n",
    "            else:\n",
    "                print(\"hint: It contains 8 letters.\")\n",
    "                attempt=attempt-1\n",
    "                print(\"remaining attempts:\",attempt)\n",
    "                \n",
    "        else:\n",
    "            if u==a.upper() or u==a.lower():\n",
    "                print(\"CORRECT!! You win\")\n",
    "                break\n",
    "            else:\n",
    "                print(\"reamining attempts: 0\")\n",
    "                print(\"YOU LOSE!!\")\n",
    "    global re\n",
    "    re=input(\"Enter r for restart and e for exit: \")\n",
    "game(a)\n",
    "while re==\"r\":\n",
    "    level=level+1\n",
    "    game(a)\n",
    "\n",
    "print(\"Thanks for playing!!\")\n"
   ]
  },
  {
   "cell_type": "code",
   "execution_count": 3,
   "id": "8c0691c9",
   "metadata": {},
   "outputs": [
    {
     "name": "stdout",
     "output_type": "stream",
     "text": [
      "Its a fruit.\n",
      "guess the word:a\n",
      "incorrect! HINT: first letter is a\n",
      "guess the word:a\n",
      "incorrect! HINT: first letter is a\n",
      "guess the word:a\n",
      "incorrect! HINT: first letter is a\n"
     ]
    }
   ],
   "source": [
    "a=\"avocado\"\n",
    "print(\"Its a fruit.\")\n",
    "def game(a):\n",
    "    global attempt\n",
    "    attempt=3\n",
    "    remain=True\n",
    "    while attempt!=0:\n",
    "        u=input(\"guess the word:\")\n",
    "        if u==a:\n",
    "            print(\"correct\")\n",
    "        else:\n",
    "            print(\"incorrect! HINT: first letter is a\")\n",
    "            attempt=attempt-1\n",
    "game(a)        \n",
    "        "
   ]
  },
  {
   "cell_type": "code",
   "execution_count": null,
   "id": "c5b3e25e",
   "metadata": {},
   "outputs": [],
   "source": []
  }
 ],
 "metadata": {
  "kernelspec": {
   "display_name": "Python 3 (ipykernel)",
   "language": "python",
   "name": "python3"
  },
  "language_info": {
   "codemirror_mode": {
    "name": "ipython",
    "version": 3
   },
   "file_extension": ".py",
   "mimetype": "text/x-python",
   "name": "python",
   "nbconvert_exporter": "python",
   "pygments_lexer": "ipython3",
   "version": "3.11.5"
  }
 },
 "nbformat": 4,
 "nbformat_minor": 5
}
