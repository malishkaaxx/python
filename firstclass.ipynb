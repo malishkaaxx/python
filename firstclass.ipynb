{
 "cells": [
  {
   "cell_type": "code",
   "execution_count": 1,
   "id": "66cd0021",
   "metadata": {},
   "outputs": [
    {
     "name": "stdout",
     "output_type": "stream",
     "text": [
      "hello world\n"
     ]
    }
   ],
   "source": [
    "print(\"hello world\")"
   ]
  },
  {
   "cell_type": "code",
   "execution_count": 2,
   "id": "a150b758",
   "metadata": {},
   "outputs": [
    {
     "name": "stdout",
     "output_type": "stream",
     "text": [
      "whats ur name?ace\n"
     ]
    }
   ],
   "source": [
    "name = input(\"whats ur name?\")"
   ]
  },
  {
   "cell_type": "code",
   "execution_count": 3,
   "id": "c04a3f4c",
   "metadata": {},
   "outputs": [
    {
     "name": "stdout",
     "output_type": "stream",
     "text": [
      "ace\n"
     ]
    }
   ],
   "source": [
    "print(name)"
   ]
  },
  {
   "cell_type": "code",
   "execution_count": 5,
   "id": "cd37a46d",
   "metadata": {},
   "outputs": [],
   "source": [
    "a=12"
   ]
  },
  {
   "cell_type": "code",
   "execution_count": 2,
   "id": "58cadee1",
   "metadata": {},
   "outputs": [],
   "source": [
    "b=23.454"
   ]
  },
  {
   "cell_type": "code",
   "execution_count": 7,
   "id": "a934b1f5",
   "metadata": {},
   "outputs": [],
   "source": [
    "c=\"a\""
   ]
  },
  {
   "cell_type": "code",
   "execution_count": 18,
   "id": "1f243b87",
   "metadata": {},
   "outputs": [],
   "source": [
    "d=4+2j"
   ]
  },
  {
   "cell_type": "code",
   "execution_count": 10,
   "id": "a6ad414c",
   "metadata": {},
   "outputs": [
    {
     "data": {
      "text/plain": [
       "int"
      ]
     },
     "execution_count": 10,
     "metadata": {},
     "output_type": "execute_result"
    }
   ],
   "source": [
    "type (a)"
   ]
  },
  {
   "cell_type": "code",
   "execution_count": 3,
   "id": "95cc633a",
   "metadata": {},
   "outputs": [
    {
     "data": {
      "text/plain": [
       "float"
      ]
     },
     "execution_count": 3,
     "metadata": {},
     "output_type": "execute_result"
    }
   ],
   "source": [
    "type(b)"
   ]
  },
  {
   "cell_type": "code",
   "execution_count": 12,
   "id": "3f528c16",
   "metadata": {},
   "outputs": [
    {
     "data": {
      "text/plain": [
       "str"
      ]
     },
     "execution_count": 12,
     "metadata": {},
     "output_type": "execute_result"
    }
   ],
   "source": [
    "type(c)"
   ]
  },
  {
   "cell_type": "code",
   "execution_count": 19,
   "id": "299019c1",
   "metadata": {},
   "outputs": [
    {
     "data": {
      "text/plain": [
       "complex"
      ]
     },
     "execution_count": 19,
     "metadata": {},
     "output_type": "execute_result"
    }
   ],
   "source": [
    "type(d)"
   ]
  },
  {
   "cell_type": "code",
   "execution_count": 20,
   "id": "d28985f1",
   "metadata": {},
   "outputs": [],
   "source": [
    "a=2398"
   ]
  },
  {
   "cell_type": "code",
   "execution_count": 21,
   "id": "9ce4e940",
   "metadata": {},
   "outputs": [],
   "source": [
    "b=12"
   ]
  },
  {
   "cell_type": "code",
   "execution_count": 22,
   "id": "00a0fd1b",
   "metadata": {},
   "outputs": [
    {
     "data": {
      "text/plain": [
       "2410"
      ]
     },
     "execution_count": 22,
     "metadata": {},
     "output_type": "execute_result"
    }
   ],
   "source": [
    "a+b"
   ]
  },
  {
   "cell_type": "code",
   "execution_count": 23,
   "id": "68aa6044",
   "metadata": {},
   "outputs": [
    {
     "data": {
      "text/plain": [
       "2386"
      ]
     },
     "execution_count": 23,
     "metadata": {},
     "output_type": "execute_result"
    }
   ],
   "source": [
    "a-b"
   ]
  },
  {
   "cell_type": "code",
   "execution_count": 24,
   "id": "cb8baec0",
   "metadata": {},
   "outputs": [
    {
     "data": {
      "text/plain": [
       "28776"
      ]
     },
     "execution_count": 24,
     "metadata": {},
     "output_type": "execute_result"
    }
   ],
   "source": [
    "a*b"
   ]
  },
  {
   "cell_type": "code",
   "execution_count": 25,
   "id": "5a43f393",
   "metadata": {},
   "outputs": [
    {
     "data": {
      "text/plain": [
       "199.83333333333334"
      ]
     },
     "execution_count": 25,
     "metadata": {},
     "output_type": "execute_result"
    }
   ],
   "source": [
    "a/b"
   ]
  },
  {
   "cell_type": "code",
   "execution_count": 26,
   "id": "79226e60",
   "metadata": {},
   "outputs": [
    {
     "data": {
      "text/plain": [
       "199"
      ]
     },
     "execution_count": 26,
     "metadata": {},
     "output_type": "execute_result"
    }
   ],
   "source": [
    "a//b"
   ]
  },
  {
   "cell_type": "code",
   "execution_count": 27,
   "id": "67af0e83",
   "metadata": {},
   "outputs": [
    {
     "data": {
      "text/plain": [
       "10"
      ]
     },
     "execution_count": 27,
     "metadata": {},
     "output_type": "execute_result"
    }
   ],
   "source": [
    "a%b"
   ]
  },
  {
   "cell_type": "code",
   "execution_count": 28,
   "id": "10a3543a",
   "metadata": {},
   "outputs": [
    {
     "data": {
      "text/plain": [
       "(199, 10)"
      ]
     },
     "execution_count": 28,
     "metadata": {},
     "output_type": "execute_result"
    }
   ],
   "source": [
    "divmod(a,b)"
   ]
  },
  {
   "cell_type": "code",
   "execution_count": 30,
   "id": "796e3053",
   "metadata": {},
   "outputs": [],
   "source": [
    "e=-23211"
   ]
  },
  {
   "cell_type": "code",
   "execution_count": 31,
   "id": "4677bce5",
   "metadata": {},
   "outputs": [
    {
     "data": {
      "text/plain": [
       "23211"
      ]
     },
     "execution_count": 31,
     "metadata": {},
     "output_type": "execute_result"
    }
   ],
   "source": [
    "abs(e)"
   ]
  },
  {
   "cell_type": "code",
   "execution_count": 32,
   "id": "0b3f9f81",
   "metadata": {},
   "outputs": [
    {
     "data": {
      "text/plain": [
       "200"
      ]
     },
     "execution_count": 32,
     "metadata": {},
     "output_type": "execute_result"
    }
   ],
   "source": [
    "round(a/b)"
   ]
  },
  {
   "cell_type": "code",
   "execution_count": 33,
   "id": "ffd7b066",
   "metadata": {},
   "outputs": [
    {
     "data": {
      "text/plain": [
       "199.83"
      ]
     },
     "execution_count": 33,
     "metadata": {},
     "output_type": "execute_result"
    }
   ],
   "source": [
    "round(a/b,2)"
   ]
  },
  {
   "cell_type": "code",
   "execution_count": 39,
   "id": "761eb5e7",
   "metadata": {},
   "outputs": [
    {
     "name": "stdout",
     "output_type": "stream",
     "text": [
      "enter no43\n"
     ]
    }
   ],
   "source": [
    "a=input(\"enter no\")"
   ]
  },
  {
   "cell_type": "code",
   "execution_count": null,
   "id": "15ca907a",
   "metadata": {},
   "outputs": [],
   "source": []
  },
  {
   "cell_type": "code",
   "execution_count": 36,
   "id": "6bf7e1f5",
   "metadata": {},
   "outputs": [
    {
     "data": {
      "text/plain": [
       "str"
      ]
     },
     "execution_count": 36,
     "metadata": {},
     "output_type": "execute_result"
    }
   ],
   "source": [
    "type(a)"
   ]
  },
  {
   "cell_type": "code",
   "execution_count": 37,
   "id": "19dd36f8",
   "metadata": {},
   "outputs": [
    {
     "data": {
      "text/plain": [
       "str"
      ]
     },
     "execution_count": 37,
     "metadata": {},
     "output_type": "execute_result"
    }
   ],
   "source": [
    "type(b)"
   ]
  },
  {
   "cell_type": "code",
   "execution_count": 43,
   "id": "581acb42",
   "metadata": {},
   "outputs": [],
   "source": [
    "a=int(a)"
   ]
  },
  {
   "cell_type": "code",
   "execution_count": 44,
   "id": "19823add",
   "metadata": {},
   "outputs": [
    {
     "data": {
      "text/plain": [
       "int"
      ]
     },
     "execution_count": 44,
     "metadata": {},
     "output_type": "execute_result"
    }
   ],
   "source": [
    "type(a)"
   ]
  },
  {
   "cell_type": "code",
   "execution_count": 45,
   "id": "925cafee",
   "metadata": {},
   "outputs": [
    {
     "data": {
      "text/plain": [
       "32068636955638964644302091603013447460711607634633358021240791550942692443"
      ]
     },
     "execution_count": 45,
     "metadata": {},
     "output_type": "execute_result"
    }
   ],
   "source": [
    "a**45"
   ]
  },
  {
   "cell_type": "code",
   "execution_count": 46,
   "id": "fea8d4d1",
   "metadata": {},
   "outputs": [
    {
     "data": {
      "text/plain": [
       "32068636955638964644302091603013447460711607634633358021240791550942692443"
      ]
     },
     "execution_count": 46,
     "metadata": {},
     "output_type": "execute_result"
    }
   ],
   "source": [
    "pow(a, 45)"
   ]
  },
  {
   "cell_type": "code",
   "execution_count": 47,
   "id": "70b34ca3",
   "metadata": {},
   "outputs": [
    {
     "data": {
      "text/plain": [
       "2"
      ]
     },
     "execution_count": 47,
     "metadata": {},
     "output_type": "execute_result"
    }
   ],
   "source": [
    "6 &3 #bitwise operation (and)"
   ]
  },
  {
   "cell_type": "code",
   "execution_count": 48,
   "id": "6b510ccc",
   "metadata": {},
   "outputs": [
    {
     "data": {
      "text/plain": [
       "3"
      ]
     },
     "execution_count": 48,
     "metadata": {},
     "output_type": "execute_result"
    }
   ],
   "source": [
    "7&3"
   ]
  },
  {
   "cell_type": "code",
   "execution_count": 49,
   "id": "b0d7167a",
   "metadata": {},
   "outputs": [
    {
     "name": "stdout",
     "output_type": "stream",
     "text": [
      "hello\n"
     ]
    }
   ],
   "source": [
    "if 5>2:\n",
    "    print(\"hello\")"
   ]
  },
  {
   "cell_type": "code",
   "execution_count": 52,
   "id": "fd1b2455",
   "metadata": {},
   "outputs": [
    {
     "ename": "IndentationError",
     "evalue": "expected an indented block after 'if' statement on line 1 (1952327444.py, line 2)",
     "output_type": "error",
     "traceback": [
      "\u001b[1;36m  Cell \u001b[1;32mIn[52], line 2\u001b[1;36m\u001b[0m\n\u001b[1;33m    print(\"hello\")\u001b[0m\n\u001b[1;37m    ^\u001b[0m\n\u001b[1;31mIndentationError\u001b[0m\u001b[1;31m:\u001b[0m expected an indented block after 'if' statement on line 1\n"
     ]
    }
   ],
   "source": [
    "if 5>2:\n",
    "print(\"hello\")"
   ]
  },
  {
   "cell_type": "markdown",
   "id": "6ac733e9",
   "metadata": {},
   "source": [
    "### variables"
   ]
  },
  {
   "cell_type": "code",
   "execution_count": 57,
   "id": "7b834580",
   "metadata": {},
   "outputs": [],
   "source": [
    "#comment (also *** *** can be used as comment)"
   ]
  },
  {
   "cell_type": "code",
   "execution_count": 4,
   "id": "1d13ec06",
   "metadata": {},
   "outputs": [],
   "source": [
    "myvar=2819"
   ]
  },
  {
   "cell_type": "code",
   "execution_count": 5,
   "id": "86d49174",
   "metadata": {},
   "outputs": [],
   "source": [
    "my_var=12321"
   ]
  },
  {
   "cell_type": "code",
   "execution_count": 6,
   "id": "f601811f",
   "metadata": {},
   "outputs": [],
   "source": [
    "_my_var=19"
   ]
  },
  {
   "cell_type": "code",
   "execution_count": 7,
   "id": "4df5034b",
   "metadata": {},
   "outputs": [],
   "source": [
    "myVar=6577"
   ]
  },
  {
   "cell_type": "code",
   "execution_count": 8,
   "id": "5f46dea6",
   "metadata": {},
   "outputs": [],
   "source": [
    "MYVAR=78"
   ]
  },
  {
   "cell_type": "code",
   "execution_count": 9,
   "id": "3ed28a52",
   "metadata": {},
   "outputs": [],
   "source": [
    "myvar2=678"
   ]
  },
  {
   "cell_type": "code",
   "execution_count": 10,
   "id": "34af95b1",
   "metadata": {},
   "outputs": [
    {
     "ename": "SyntaxError",
     "evalue": "invalid decimal literal (2542746802.py, line 1)",
     "output_type": "error",
     "traceback": [
      "\u001b[1;36m  Cell \u001b[1;32mIn[10], line 1\u001b[1;36m\u001b[0m\n\u001b[1;33m    2myvar=90\u001b[0m\n\u001b[1;37m    ^\u001b[0m\n\u001b[1;31mSyntaxError\u001b[0m\u001b[1;31m:\u001b[0m invalid decimal literal\n"
     ]
    }
   ],
   "source": [
    "2myvar=90"
   ]
  },
  {
   "cell_type": "code",
   "execution_count": 11,
   "id": "c38e5eb5",
   "metadata": {},
   "outputs": [
    {
     "ename": "SyntaxError",
     "evalue": "cannot assign to expression here. Maybe you meant '==' instead of '='? (392088811.py, line 1)",
     "output_type": "error",
     "traceback": [
      "\u001b[1;36m  Cell \u001b[1;32mIn[11], line 1\u001b[1;36m\u001b[0m\n\u001b[1;33m    my-var=67\u001b[0m\n\u001b[1;37m    ^\u001b[0m\n\u001b[1;31mSyntaxError\u001b[0m\u001b[1;31m:\u001b[0m cannot assign to expression here. Maybe you meant '==' instead of '='?\n"
     ]
    }
   ],
   "source": [
    "my-var=67"
   ]
  },
  {
   "cell_type": "code",
   "execution_count": 12,
   "id": "a8eb746e",
   "metadata": {},
   "outputs": [
    {
     "ename": "SyntaxError",
     "evalue": "invalid syntax (1123247088.py, line 1)",
     "output_type": "error",
     "traceback": [
      "\u001b[1;36m  Cell \u001b[1;32mIn[12], line 1\u001b[1;36m\u001b[0m\n\u001b[1;33m    my var=57\u001b[0m\n\u001b[1;37m       ^\u001b[0m\n\u001b[1;31mSyntaxError\u001b[0m\u001b[1;31m:\u001b[0m invalid syntax\n"
     ]
    }
   ],
   "source": [
    "my var=57"
   ]
  },
  {
   "cell_type": "markdown",
   "id": "1a9933fc",
   "metadata": {},
   "source": [
    "# string "
   ]
  },
  {
   "cell_type": "markdown",
   "id": "02826360",
   "metadata": {},
   "source": [
    "#### size"
   ]
  },
  {
   "cell_type": "code",
   "execution_count": 31,
   "id": "0381ab99",
   "metadata": {},
   "outputs": [],
   "source": [
    "a= 'string'"
   ]
  },
  {
   "cell_type": "code",
   "execution_count": 32,
   "id": "9c6a3981",
   "metadata": {},
   "outputs": [],
   "source": [
    "b=\"string\""
   ]
  },
  {
   "cell_type": "code",
   "execution_count": 51,
   "id": "d36d2372",
   "metadata": {},
   "outputs": [],
   "source": [
    "c='''multi line \n",
    "string'''"
   ]
  },
  {
   "cell_type": "code",
   "execution_count": 29,
   "id": "66da83b3",
   "metadata": {},
   "outputs": [
    {
     "name": "stdout",
     "output_type": "stream",
     "text": [
      "10\n",
      "10\n",
      "10\n"
     ]
    }
   ],
   "source": [
    "print(a)\n",
    "print(b)\n",
    "print(c)"
   ]
  },
  {
   "cell_type": "code",
   "execution_count": 33,
   "id": "91ecd175",
   "metadata": {},
   "outputs": [
    {
     "data": {
      "text/plain": [
       "'stringstring'"
      ]
     },
     "execution_count": 33,
     "metadata": {},
     "output_type": "execute_result"
    }
   ],
   "source": [
    "a+b"
   ]
  },
  {
   "cell_type": "code",
   "execution_count": 35,
   "id": "006c604e",
   "metadata": {},
   "outputs": [
    {
     "ename": "TypeError",
     "evalue": "unsupported operand type(s) for -: 'str' and 'str'",
     "output_type": "error",
     "traceback": [
      "\u001b[1;31m---------------------------------------------------------------------------\u001b[0m",
      "\u001b[1;31mTypeError\u001b[0m                                 Traceback (most recent call last)",
      "Cell \u001b[1;32mIn[35], line 1\u001b[0m\n\u001b[1;32m----> 1\u001b[0m a\u001b[38;5;241m-\u001b[39mb\n",
      "\u001b[1;31mTypeError\u001b[0m: unsupported operand type(s) for -: 'str' and 'str'"
     ]
    }
   ],
   "source": [
    "a-b"
   ]
  },
  {
   "cell_type": "code",
   "execution_count": 36,
   "id": "bc501251",
   "metadata": {},
   "outputs": [
    {
     "ename": "TypeError",
     "evalue": "can't multiply sequence by non-int of type 'str'",
     "output_type": "error",
     "traceback": [
      "\u001b[1;31m---------------------------------------------------------------------------\u001b[0m",
      "\u001b[1;31mTypeError\u001b[0m                                 Traceback (most recent call last)",
      "Cell \u001b[1;32mIn[36], line 1\u001b[0m\n\u001b[1;32m----> 1\u001b[0m a\u001b[38;5;241m*\u001b[39mb\n",
      "\u001b[1;31mTypeError\u001b[0m: can't multiply sequence by non-int of type 'str'"
     ]
    }
   ],
   "source": [
    "a*b"
   ]
  },
  {
   "cell_type": "code",
   "execution_count": 37,
   "id": "71b15dbf",
   "metadata": {},
   "outputs": [
    {
     "ename": "TypeError",
     "evalue": "unsupported operand type(s) for /: 'str' and 'str'",
     "output_type": "error",
     "traceback": [
      "\u001b[1;31m---------------------------------------------------------------------------\u001b[0m",
      "\u001b[1;31mTypeError\u001b[0m                                 Traceback (most recent call last)",
      "Cell \u001b[1;32mIn[37], line 1\u001b[0m\n\u001b[1;32m----> 1\u001b[0m a\u001b[38;5;241m/\u001b[39mb\n",
      "\u001b[1;31mTypeError\u001b[0m: unsupported operand type(s) for /: 'str' and 'str'"
     ]
    }
   ],
   "source": [
    "a/b"
   ]
  },
  {
   "cell_type": "code",
   "execution_count": 38,
   "id": "dcef9b76",
   "metadata": {},
   "outputs": [
    {
     "data": {
      "text/plain": [
       "'stringstringstringstringstring'"
      ]
     },
     "execution_count": 38,
     "metadata": {},
     "output_type": "execute_result"
    }
   ],
   "source": [
    "a*5"
   ]
  },
  {
   "cell_type": "code",
   "execution_count": 54,
   "id": "3587334d",
   "metadata": {},
   "outputs": [
    {
     "data": {
      "text/plain": [
       "1"
      ]
     },
     "execution_count": 54,
     "metadata": {},
     "output_type": "execute_result"
    }
   ],
   "source": [
    "c.count(c)"
   ]
  },
  {
   "cell_type": "code",
   "execution_count": 41,
   "id": "c21d2530",
   "metadata": {},
   "outputs": [
    {
     "data": {
      "text/plain": [
       "'STRING'"
      ]
     },
     "execution_count": 41,
     "metadata": {},
     "output_type": "execute_result"
    }
   ],
   "source": [
    "a.upper()"
   ]
  },
  {
   "cell_type": "code",
   "execution_count": 42,
   "id": "be484f9d",
   "metadata": {},
   "outputs": [
    {
     "data": {
      "text/plain": [
       "'string'"
      ]
     },
     "execution_count": 42,
     "metadata": {},
     "output_type": "execute_result"
    }
   ],
   "source": [
    "a.lower()"
   ]
  },
  {
   "cell_type": "code",
   "execution_count": 44,
   "id": "39a6c1d7",
   "metadata": {},
   "outputs": [
    {
     "data": {
      "text/plain": [
       "'String'"
      ]
     },
     "execution_count": 44,
     "metadata": {},
     "output_type": "execute_result"
    }
   ],
   "source": [
    "a.capitalize()"
   ]
  },
  {
   "cell_type": "code",
   "execution_count": 58,
   "id": "7de662d0",
   "metadata": {},
   "outputs": [
    {
     "data": {
      "text/plain": [
       "'cornt'"
      ]
     },
     "execution_count": 58,
     "metadata": {},
     "output_type": "execute_result"
    }
   ],
   "source": [
    "a.replace(\"u\",\"r\") #to replace a letter in the word"
   ]
  },
  {
   "cell_type": "code",
   "execution_count": null,
   "id": "f871b1c8",
   "metadata": {},
   "outputs": [],
   "source": []
  },
  {
   "cell_type": "code",
   "execution_count": 24,
   "id": "5e2f8fd6",
   "metadata": {},
   "outputs": [],
   "source": [
    "a,b=2,5"
   ]
  },
  {
   "cell_type": "code",
   "execution_count": 25,
   "id": "9527356a",
   "metadata": {},
   "outputs": [
    {
     "name": "stdout",
     "output_type": "stream",
     "text": [
      "2\n",
      "5\n"
     ]
    }
   ],
   "source": [
    "print(a)\n",
    "print(b)"
   ]
  },
  {
   "cell_type": "code",
   "execution_count": 26,
   "id": "c651f018",
   "metadata": {},
   "outputs": [],
   "source": [
    "a=b=c=d=10"
   ]
  },
  {
   "cell_type": "code",
   "execution_count": 27,
   "id": "00aa7a07",
   "metadata": {},
   "outputs": [
    {
     "name": "stdout",
     "output_type": "stream",
     "text": [
      "10\n",
      "10\n",
      "10\n",
      "10\n"
     ]
    }
   ],
   "source": [
    "print(a)\n",
    "print (b)\n",
    "print(c)\n",
    "print(d)"
   ]
  },
  {
   "cell_type": "markdown",
   "id": "b7cc2ad4",
   "metadata": {},
   "source": [
    "# --------------------------------------------------------------------------------------------------------------"
   ]
  },
  {
   "cell_type": "code",
   "execution_count": 59,
   "id": "587ef1fc",
   "metadata": {},
   "outputs": [],
   "source": [
    "d=\" kmc \""
   ]
  },
  {
   "cell_type": "code",
   "execution_count": 63,
   "id": "596e97de",
   "metadata": {},
   "outputs": [
    {
     "data": {
      "text/plain": [
       "'kmc'"
      ]
     },
     "execution_count": 63,
     "metadata": {},
     "output_type": "execute_result"
    }
   ],
   "source": [
    "d.strip() #remove space"
   ]
  },
  {
   "cell_type": "code",
   "execution_count": 64,
   "id": "a6f8c761",
   "metadata": {},
   "outputs": [
    {
     "name": "stdout",
     "output_type": "stream",
     "text": [
      "c\n",
      "o\n",
      "u\n",
      "n\n",
      "t\n"
     ]
    }
   ],
   "source": [
    "for i in a:\n",
    "    print(i)"
   ]
  },
  {
   "cell_type": "markdown",
   "id": "d4fa6d4d",
   "metadata": {},
   "source": [
    "### string slicing"
   ]
  },
  {
   "cell_type": "code",
   "execution_count": 86,
   "id": "62e0a085",
   "metadata": {},
   "outputs": [],
   "source": [
    "q=\"this is avocado\""
   ]
  },
  {
   "cell_type": "code",
   "execution_count": 79,
   "id": "ee3a1572",
   "metadata": {},
   "outputs": [
    {
     "data": {
      "text/plain": [
       "'i'"
      ]
     },
     "execution_count": 79,
     "metadata": {},
     "output_type": "execute_result"
    }
   ],
   "source": [
    "q[5] #starting from 0 and counting space"
   ]
  },
  {
   "cell_type": "code",
   "execution_count": 80,
   "id": "6efcfd89",
   "metadata": {},
   "outputs": [
    {
     "data": {
      "text/plain": [
       "'o'"
      ]
     },
     "execution_count": 80,
     "metadata": {},
     "output_type": "execute_result"
    }
   ],
   "source": [
    "q[-1] # taking out a letter from last use -"
   ]
  },
  {
   "cell_type": "code",
   "execution_count": 83,
   "id": "9c6c32c0",
   "metadata": {},
   "outputs": [
    {
     "data": {
      "text/plain": [
       "'this '"
      ]
     },
     "execution_count": 83,
     "metadata": {},
     "output_type": "execute_result"
    }
   ],
   "source": [
    "q[0:5] #from 0 to 4th letter as first value is included and last value is excluded i.e [0,5)"
   ]
  },
  {
   "cell_type": "code",
   "execution_count": 90,
   "id": "d3cf6e21",
   "metadata": {},
   "outputs": [
    {
     "data": {
      "text/plain": [
       "'s avocad'"
      ]
     },
     "execution_count": 90,
     "metadata": {},
     "output_type": "execute_result"
    }
   ],
   "source": [
    "q[-9:-1] #count from left to right all the time"
   ]
  },
  {
   "cell_type": "code",
   "execution_count": 91,
   "id": "c48cb291",
   "metadata": {},
   "outputs": [],
   "source": [
    "p=\"this is aeroplane\""
   ]
  },
  {
   "cell_type": "code",
   "execution_count": 96,
   "id": "cbf5fcb4",
   "metadata": {},
   "outputs": [
    {
     "data": {
      "text/plain": [
       "''"
      ]
     },
     "execution_count": 96,
     "metadata": {},
     "output_type": "execute_result"
    }
   ],
   "source": [
    "p[-9:0] #last value cannot be displayed"
   ]
  },
  {
   "cell_type": "code",
   "execution_count": 97,
   "id": "30671508",
   "metadata": {},
   "outputs": [
    {
     "data": {
      "text/plain": [
       "'aeroplane'"
      ]
     },
     "execution_count": 97,
     "metadata": {},
     "output_type": "execute_result"
    }
   ],
   "source": [
    "p[-9:] #but without writing anything we can display upto last letter starting from the 9th letter "
   ]
  },
  {
   "cell_type": "code",
   "execution_count": 98,
   "id": "c7719c3f",
   "metadata": {},
   "outputs": [
    {
     "data": {
      "text/plain": [
       "'this '"
      ]
     },
     "execution_count": 98,
     "metadata": {},
     "output_type": "execute_result"
    }
   ],
   "source": [
    "p[:5] #displays all the first letters upto 5th"
   ]
  },
  {
   "cell_type": "markdown",
   "id": "ecb4de7a",
   "metadata": {},
   "source": [
    "### Escape characters"
   ]
  },
  {
   "cell_type": "code",
   "execution_count": 2,
   "id": "15db4ac2",
   "metadata": {},
   "outputs": [
    {
     "name": "stdout",
     "output_type": "stream",
     "text": [
      "he said, \"I am god.\" to his mom. \n"
     ]
    }
   ],
   "source": [
    "print(\"he said, \\\"I am god.\\\" to his mom. \") # \\\" used to insert double quote inside string"
   ]
  },
  {
   "cell_type": "code",
   "execution_count": 3,
   "id": "57a61008",
   "metadata": {},
   "outputs": [
    {
     "name": "stdout",
     "output_type": "stream",
     "text": [
      "my mother's name is missy.\n"
     ]
    }
   ],
   "source": [
    "print(\"my mother\\'s name is missy.\") # \\' used to insert a single quote"
   ]
  },
  {
   "cell_type": "code",
   "execution_count": 4,
   "id": "51981a48",
   "metadata": {},
   "outputs": [
    {
     "name": "stdout",
     "output_type": "stream",
     "text": [
      "the title is \n",
      " in next line\n"
     ]
    }
   ],
   "source": [
    "print(\"the title is \\n in next line\") # \\n used to break line"
   ]
  },
  {
   "cell_type": "code",
   "execution_count": 8,
   "id": "1797dd9d",
   "metadata": {},
   "outputs": [
    {
     "name": "stdout",
     "output_type": "stream",
     "text": [
      " the title is \r",
      " in next line\n"
     ]
    }
   ],
   "source": [
    "print(\" the title is \\r in next line\") # \\r used to "
   ]
  },
  {
   "cell_type": "code",
   "execution_count": 14,
   "id": "baf4ba23",
   "metadata": {},
   "outputs": [
    {
     "name": "stdout",
     "output_type": "stream",
     "text": [
      "Removing so\bme  character\n"
     ]
    }
   ],
   "source": [
    "print(\"Removing so\\bme  character\") # \\b backspace used to remove a character"
   ]
  },
  {
   "cell_type": "code",
   "execution_count": 15,
   "id": "43035dd9",
   "metadata": {},
   "outputs": [
    {
     "name": "stdout",
     "output_type": "stream",
     "text": [
      "giving \t tab\n"
     ]
    }
   ],
   "source": [
    "print(\"giving \\t tab\") # \\t used to insert tab"
   ]
  },
  {
   "cell_type": "code",
   "execution_count": 16,
   "id": "8c117035",
   "metadata": {},
   "outputs": [
    {
     "name": "stdout",
     "output_type": "stream",
     "text": [
      "oh to insert \\ backslash\n"
     ]
    }
   ],
   "source": [
    "print(\"oh to insert \\\\ backslash\") "
   ]
  },
  {
   "cell_type": "markdown",
   "id": "df8bef91",
   "metadata": {},
   "source": [
    "### bool data type"
   ]
  },
  {
   "cell_type": "code",
   "execution_count": 7,
   "id": "592fc7fd",
   "metadata": {},
   "outputs": [],
   "source": [
    "a= True"
   ]
  },
  {
   "cell_type": "code",
   "execution_count": 8,
   "id": "291a379a",
   "metadata": {},
   "outputs": [
    {
     "data": {
      "text/plain": [
       "bool"
      ]
     },
     "execution_count": 8,
     "metadata": {},
     "output_type": "execute_result"
    }
   ],
   "source": [
    "type(a)"
   ]
  },
  {
   "cell_type": "code",
   "execution_count": 9,
   "id": "c7df44d8",
   "metadata": {},
   "outputs": [],
   "source": [
    "b=10"
   ]
  },
  {
   "cell_type": "code",
   "execution_count": 10,
   "id": "16f821c3",
   "metadata": {},
   "outputs": [
    {
     "data": {
      "text/plain": [
       "11"
      ]
     },
     "execution_count": 10,
     "metadata": {},
     "output_type": "execute_result"
    }
   ],
   "source": [
    "a+b # true=1 and false=0"
   ]
  },
  {
   "cell_type": "code",
   "execution_count": 11,
   "id": "7e894975",
   "metadata": {},
   "outputs": [],
   "source": [
    "d= False"
   ]
  },
  {
   "cell_type": "code",
   "execution_count": 12,
   "id": "a9d76c70",
   "metadata": {},
   "outputs": [
    {
     "data": {
      "text/plain": [
       "1"
      ]
     },
     "execution_count": 12,
     "metadata": {},
     "output_type": "execute_result"
    }
   ],
   "source": [
    "a+d"
   ]
  },
  {
   "cell_type": "code",
   "execution_count": 13,
   "id": "850a36c4",
   "metadata": {},
   "outputs": [
    {
     "ename": "TypeError",
     "evalue": "unsupported operand type(s) for +: 'bool' and 'str'",
     "output_type": "error",
     "traceback": [
      "\u001b[1;31m---------------------------------------------------------------------------\u001b[0m",
      "\u001b[1;31mTypeError\u001b[0m                                 Traceback (most recent call last)",
      "Cell \u001b[1;32mIn[13], line 1\u001b[0m\n\u001b[1;32m----> 1\u001b[0m a\u001b[38;5;241m+\u001b[39m\u001b[38;5;124m\"\u001b[39m\u001b[38;5;124mstring\u001b[39m\u001b[38;5;124m\"\u001b[39m\n",
      "\u001b[1;31mTypeError\u001b[0m: unsupported operand type(s) for +: 'bool' and 'str'"
     ]
    }
   ],
   "source": [
    "a+\"string\""
   ]
  },
  {
   "cell_type": "code",
   "execution_count": 14,
   "id": "366a643e",
   "metadata": {},
   "outputs": [
    {
     "data": {
      "text/plain": [
       "'Truehello'"
      ]
     },
     "execution_count": 14,
     "metadata": {},
     "output_type": "execute_result"
    }
   ],
   "source": [
    "str(a)+\"hello\""
   ]
  },
  {
   "cell_type": "code",
   "execution_count": 15,
   "id": "354425fd",
   "metadata": {},
   "outputs": [
    {
     "data": {
      "text/plain": [
       "21"
      ]
     },
     "execution_count": 15,
     "metadata": {},
     "output_type": "execute_result"
    }
   ],
   "source": [
    "int(a)+20"
   ]
  },
  {
   "cell_type": "code",
   "execution_count": null,
   "id": "b22e31e8",
   "metadata": {},
   "outputs": [],
   "source": []
  },
  {
   "cell_type": "code",
   "execution_count": 16,
   "id": "aad60307",
   "metadata": {},
   "outputs": [],
   "source": [
    "a=2,3 #not usually possible"
   ]
  },
  {
   "cell_type": "code",
   "execution_count": 17,
   "id": "db9d4672",
   "metadata": {},
   "outputs": [
    {
     "data": {
      "text/plain": [
       "tuple"
      ]
     },
     "execution_count": 17,
     "metadata": {},
     "output_type": "execute_result"
    }
   ],
   "source": [
    "type(a)"
   ]
  },
  {
   "cell_type": "code",
   "execution_count": 18,
   "id": "3be51a4d",
   "metadata": {},
   "outputs": [],
   "source": [
    "a=(2,3)"
   ]
  },
  {
   "cell_type": "code",
   "execution_count": 19,
   "id": "c4e5ed79",
   "metadata": {},
   "outputs": [
    {
     "data": {
      "text/plain": [
       "tuple"
      ]
     },
     "execution_count": 19,
     "metadata": {},
     "output_type": "execute_result"
    }
   ],
   "source": [
    "type(a)"
   ]
  },
  {
   "cell_type": "markdown",
   "id": "db5f40b1",
   "metadata": {},
   "source": [
    "### list"
   ]
  },
  {
   "cell_type": "code",
   "execution_count": 20,
   "id": "c720987e",
   "metadata": {},
   "outputs": [],
   "source": [
    "e=[a, b, \"c\"]"
   ]
  },
  {
   "cell_type": "code",
   "execution_count": 21,
   "id": "87fcd28b",
   "metadata": {},
   "outputs": [],
   "source": [
    "e=[2, 3, 8.9]"
   ]
  },
  {
   "cell_type": "code",
   "execution_count": 22,
   "id": "2976feba",
   "metadata": {},
   "outputs": [],
   "source": [
    "o=[\"s\", \"u\"]"
   ]
  },
  {
   "cell_type": "code",
   "execution_count": 23,
   "id": "8f9aeaa4",
   "metadata": {},
   "outputs": [],
   "source": [
    "n= [\"name\", 34, \"stu\", 89, \"asa\", 90]"
   ]
  },
  {
   "cell_type": "code",
   "execution_count": 24,
   "id": "8adb36eb",
   "metadata": {},
   "outputs": [],
   "source": [
    "p=[[\"sdi\", \"ijo\"], #2d list\n",
    "  [291, 129],\n",
    "  [\"p\", 2]]\n"
   ]
  },
  {
   "cell_type": "code",
   "execution_count": 25,
   "id": "1da9258c",
   "metadata": {},
   "outputs": [
    {
     "data": {
      "text/plain": [
       "list"
      ]
     },
     "execution_count": 25,
     "metadata": {},
     "output_type": "execute_result"
    }
   ],
   "source": [
    "type(p)"
   ]
  },
  {
   "cell_type": "code",
   "execution_count": 26,
   "id": "a1f22b7b",
   "metadata": {},
   "outputs": [],
   "source": [
    "r=[[2,[\"A\", 9],0],\n",
    "  [\"name\", \"IAS\"],]"
   ]
  },
  {
   "cell_type": "code",
   "execution_count": 27,
   "id": "621609ed",
   "metadata": {},
   "outputs": [],
   "source": [
    "n[4]=\"ava\" #changing a element from n thats in 4th position"
   ]
  },
  {
   "cell_type": "code",
   "execution_count": 28,
   "id": "07f6a06e",
   "metadata": {},
   "outputs": [
    {
     "data": {
      "text/plain": [
       "['name', 34, 'stu', 89, 'ava', 90]"
      ]
     },
     "execution_count": 28,
     "metadata": {},
     "output_type": "execute_result"
    }
   ],
   "source": [
    "n"
   ]
  },
  {
   "cell_type": "code",
   "execution_count": 29,
   "id": "6fcec21e",
   "metadata": {},
   "outputs": [],
   "source": [
    "p[1][0]=890 #changing item from 2d list thats in 1st ko 0 position"
   ]
  },
  {
   "cell_type": "code",
   "execution_count": 30,
   "id": "3c101597",
   "metadata": {},
   "outputs": [
    {
     "data": {
      "text/plain": [
       "[['sdi', 'ijo'], [890, 129], ['p', 2]]"
      ]
     },
     "execution_count": 30,
     "metadata": {},
     "output_type": "execute_result"
    }
   ],
   "source": [
    "p"
   ]
  },
  {
   "cell_type": "code",
   "execution_count": 31,
   "id": "fd6484ec",
   "metadata": {},
   "outputs": [
    {
     "name": "stdout",
     "output_type": "stream",
     "text": [
      "['apple', 'orange', 'fig', 'berry', 'mango', 'litchi']\n"
     ]
    }
   ],
   "source": [
    "s=[\"apple\", \"orange\", \"fig\", \"berry\",\"mango\", \"litchi\"]\n",
    "print(s)"
   ]
  },
  {
   "cell_type": "code",
   "execution_count": 32,
   "id": "c0884e81",
   "metadata": {},
   "outputs": [
    {
     "name": "stdout",
     "output_type": "stream",
     "text": [
      "fig\n"
     ]
    }
   ],
   "source": [
    "print(s[2]) #accessing a value"
   ]
  },
  {
   "cell_type": "code",
   "execution_count": 33,
   "id": "7435be00",
   "metadata": {},
   "outputs": [],
   "source": [
    "s[3]=\"strawberry\" #changing a value"
   ]
  },
  {
   "cell_type": "code",
   "execution_count": 34,
   "id": "5fce08f3",
   "metadata": {},
   "outputs": [],
   "source": [
    "s.append(\"watermelon\") #adding a value (only single value, adds to the last of the list)\n"
   ]
  },
  {
   "cell_type": "code",
   "execution_count": 35,
   "id": "4e553cfd",
   "metadata": {},
   "outputs": [
    {
     "name": "stdout",
     "output_type": "stream",
     "text": [
      "['apple', 'orange', 'fig', 'strawberry', 'mango', 'litchi', 'watermelon']\n"
     ]
    }
   ],
   "source": [
    "print(s)"
   ]
  },
  {
   "cell_type": "code",
   "execution_count": null,
   "id": "762f20d2",
   "metadata": {},
   "outputs": [],
   "source": []
  },
  {
   "cell_type": "code",
   "execution_count": 36,
   "id": "4098ca42",
   "metadata": {},
   "outputs": [],
   "source": [
    "s.insert(2, \"peach\") #adding a single value"
   ]
  },
  {
   "cell_type": "code",
   "execution_count": 37,
   "id": "2c697ab6",
   "metadata": {},
   "outputs": [
    {
     "data": {
      "text/plain": [
       "['apple',\n",
       " 'orange',\n",
       " 'peach',\n",
       " 'fig',\n",
       " 'strawberry',\n",
       " 'mango',\n",
       " 'litchi',\n",
       " 'watermelon']"
      ]
     },
     "execution_count": 37,
     "metadata": {},
     "output_type": "execute_result"
    }
   ],
   "source": [
    "s"
   ]
  },
  {
   "cell_type": "code",
   "execution_count": 38,
   "id": "276cfbdc",
   "metadata": {},
   "outputs": [],
   "source": [
    "newfruit=[\"kiwi\", \"avocado\", \"plumberry\"]"
   ]
  },
  {
   "cell_type": "code",
   "execution_count": 39,
   "id": "2a4100c7",
   "metadata": {},
   "outputs": [],
   "source": [
    "s.extend(newfruit)"
   ]
  },
  {
   "cell_type": "code",
   "execution_count": 40,
   "id": "b17dfdfb",
   "metadata": {},
   "outputs": [
    {
     "data": {
      "text/plain": [
       "['apple',\n",
       " 'orange',\n",
       " 'peach',\n",
       " 'fig',\n",
       " 'strawberry',\n",
       " 'mango',\n",
       " 'litchi',\n",
       " 'watermelon',\n",
       " 'kiwi',\n",
       " 'avocado',\n",
       " 'plumberry']"
      ]
     },
     "execution_count": 40,
     "metadata": {},
     "output_type": "execute_result"
    }
   ],
   "source": [
    "s"
   ]
  },
  {
   "cell_type": "code",
   "execution_count": 41,
   "id": "41c0349f",
   "metadata": {},
   "outputs": [
    {
     "name": "stdout",
     "output_type": "stream",
     "text": [
      "['apple', 'orange', 'peach', 'strawberry', 'mango', 'litchi', 'watermelon', 'kiwi', 'avocado', 'plumberry']\n"
     ]
    }
   ],
   "source": [
    "s.remove(\"fig\") #removing a item\n",
    "print(s)"
   ]
  },
  {
   "cell_type": "code",
   "execution_count": 42,
   "id": "48c27019",
   "metadata": {},
   "outputs": [
    {
     "data": {
      "text/plain": [
       "'plumberry'"
      ]
     },
     "execution_count": 42,
     "metadata": {},
     "output_type": "execute_result"
    }
   ],
   "source": [
    "s.pop() #removing last item"
   ]
  },
  {
   "cell_type": "code",
   "execution_count": 135,
   "id": "c37bcfd6",
   "metadata": {},
   "outputs": [],
   "source": [
    "b=s.copy()"
   ]
  },
  {
   "cell_type": "code",
   "execution_count": 136,
   "id": "125aa7f3",
   "metadata": {},
   "outputs": [
    {
     "name": "stdout",
     "output_type": "stream",
     "text": [
      "['apple', 'orange', 'peach', 'strawberry', 'mango', 'litchi', 'watermelon', 'kiwi', 'avocado']\n"
     ]
    }
   ],
   "source": [
    "print(b)"
   ]
  },
  {
   "cell_type": "code",
   "execution_count": 141,
   "id": "db30016b",
   "metadata": {},
   "outputs": [],
   "source": [
    "del s[0] #deleting 0 position ko element (del deletes the whole list if position isnt specified)"
   ]
  },
  {
   "cell_type": "code",
   "execution_count": 142,
   "id": "3e994e23",
   "metadata": {},
   "outputs": [
    {
     "data": {
      "text/plain": [
       "['orange',\n",
       " 'peach',\n",
       " 'strawberry',\n",
       " 'mango',\n",
       " 'litchi',\n",
       " 'watermelon',\n",
       " 'kiwi',\n",
       " 'avocado',\n",
       " 'kiwi',\n",
       " 'avocado',\n",
       " 'plumberry']"
      ]
     },
     "execution_count": 142,
     "metadata": {},
     "output_type": "execute_result"
    }
   ],
   "source": [
    "s"
   ]
  },
  {
   "cell_type": "code",
   "execution_count": 143,
   "id": "049a493e",
   "metadata": {},
   "outputs": [],
   "source": [
    "b.clear() #removes data of list "
   ]
  },
  {
   "cell_type": "code",
   "execution_count": 144,
   "id": "a3b0154c",
   "metadata": {},
   "outputs": [
    {
     "name": "stdout",
     "output_type": "stream",
     "text": [
      "[]\n"
     ]
    }
   ],
   "source": [
    "print(b)"
   ]
  },
  {
   "cell_type": "code",
   "execution_count": 145,
   "id": "015fe03f",
   "metadata": {},
   "outputs": [
    {
     "name": "stdout",
     "output_type": "stream",
     "text": [
      "orange\n",
      "peach\n",
      "strawberry\n",
      "mango\n",
      "litchi\n",
      "watermelon\n",
      "kiwi\n",
      "avocado\n",
      "kiwi\n",
      "avocado\n",
      "plumberry\n"
     ]
    }
   ],
   "source": [
    "for i in s:  #value of i starts from 0 upto end value of s\n",
    "    print(i)"
   ]
  },
  {
   "cell_type": "code",
   "execution_count": 146,
   "id": "ba4c2e35",
   "metadata": {},
   "outputs": [
    {
     "data": {
      "text/plain": [
       "11"
      ]
     },
     "execution_count": 146,
     "metadata": {},
     "output_type": "execute_result"
    }
   ],
   "source": [
    "len(s) #shows length of list"
   ]
  },
  {
   "cell_type": "markdown",
   "id": "c059e320",
   "metadata": {},
   "source": [
    "### tuple"
   ]
  },
  {
   "cell_type": "code",
   "execution_count": 147,
   "id": "aa9a42d1",
   "metadata": {},
   "outputs": [],
   "source": [
    "t=tuple(s) #converting list s into tuple"
   ]
  },
  {
   "cell_type": "code",
   "execution_count": 163,
   "id": "41b75845",
   "metadata": {},
   "outputs": [
    {
     "data": {
      "text/plain": [
       "('orange',\n",
       " 'peach',\n",
       " 'strawberry',\n",
       " 'mango',\n",
       " 'litchi',\n",
       " 'watermelon',\n",
       " 'kiwi',\n",
       " 'avocado',\n",
       " 'kiwi',\n",
       " 'avocado',\n",
       " 'plumberry')"
      ]
     },
     "execution_count": 163,
     "metadata": {},
     "output_type": "execute_result"
    }
   ],
   "source": [
    "t #tuple contains elements inside small bracket, there is no position of items in tuple"
   ]
  },
  {
   "cell_type": "code",
   "execution_count": 151,
   "id": "c4075797",
   "metadata": {},
   "outputs": [
    {
     "data": {
      "text/plain": [
       "'orange'"
      ]
     },
     "execution_count": 151,
     "metadata": {},
     "output_type": "execute_result"
    }
   ],
   "source": [
    "t[0] #accessing the value"
   ]
  },
  {
   "cell_type": "code",
   "execution_count": 152,
   "id": "60e17812",
   "metadata": {},
   "outputs": [
    {
     "ename": "TypeError",
     "evalue": "'tuple' object does not support item assignment",
     "output_type": "error",
     "traceback": [
      "\u001b[1;31m---------------------------------------------------------------------------\u001b[0m",
      "\u001b[1;31mTypeError\u001b[0m                                 Traceback (most recent call last)",
      "Cell \u001b[1;32mIn[152], line 1\u001b[0m\n\u001b[1;32m----> 1\u001b[0m t[\u001b[38;5;241m0\u001b[39m]\u001b[38;5;241m=\u001b[39m\u001b[38;5;124m\"\u001b[39m\u001b[38;5;124mapp\u001b[39m\u001b[38;5;124m\"\u001b[39m\n",
      "\u001b[1;31mTypeError\u001b[0m: 'tuple' object does not support item assignment"
     ]
    }
   ],
   "source": [
    "t[0]=\"app\" #changing the value (we cant assign new values so error), we usually use tuple to store values that shouldnt be changed once assigned"
   ]
  },
  {
   "cell_type": "code",
   "execution_count": 153,
   "id": "b4be8a1e",
   "metadata": {},
   "outputs": [
    {
     "name": "stdout",
     "output_type": "stream",
     "text": [
      "<class 'tuple'>\n"
     ]
    }
   ],
   "source": [
    "print(type(t))"
   ]
  },
  {
   "cell_type": "code",
   "execution_count": 160,
   "id": "0f26c768",
   "metadata": {},
   "outputs": [
    {
     "data": {
      "text/plain": [
       "11"
      ]
     },
     "execution_count": 160,
     "metadata": {},
     "output_type": "execute_result"
    }
   ],
   "source": [
    "len(t)"
   ]
  },
  {
   "cell_type": "code",
   "execution_count": 164,
   "id": "909fa4e2",
   "metadata": {},
   "outputs": [
    {
     "ename": "ValueError",
     "evalue": "too many values to unpack (expected 3)",
     "output_type": "error",
     "traceback": [
      "\u001b[1;31m---------------------------------------------------------------------------\u001b[0m",
      "\u001b[1;31mValueError\u001b[0m                                Traceback (most recent call last)",
      "Cell \u001b[1;32mIn[164], line 1\u001b[0m\n\u001b[1;32m----> 1\u001b[0m a,b,c\u001b[38;5;241m=\u001b[39mt\n",
      "\u001b[1;31mValueError\u001b[0m: too many values to unpack (expected 3)"
     ]
    }
   ],
   "source": [
    "a,b,c=t #unpacking error cz i havent updated"
   ]
  },
  {
   "cell_type": "code",
   "execution_count": 166,
   "id": "4567a43b",
   "metadata": {},
   "outputs": [
    {
     "data": {
      "text/plain": [
       "('orange',\n",
       " 'peach',\n",
       " 'strawberry',\n",
       " 'mango',\n",
       " 'litchi',\n",
       " 'watermelon',\n",
       " 'kiwi',\n",
       " 'avocado',\n",
       " 'kiwi',\n",
       " 'avocado',\n",
       " 'plumberry',\n",
       " 'orange',\n",
       " 'peach',\n",
       " 'strawberry',\n",
       " 'mango',\n",
       " 'litchi',\n",
       " 'watermelon',\n",
       " 'kiwi',\n",
       " 'avocado',\n",
       " 'kiwi',\n",
       " 'avocado',\n",
       " 'plumberry')"
      ]
     },
     "execution_count": 166,
     "metadata": {},
     "output_type": "execute_result"
    }
   ],
   "source": [
    "t+t"
   ]
  },
  {
   "cell_type": "code",
   "execution_count": 167,
   "id": "198202fc",
   "metadata": {},
   "outputs": [
    {
     "data": {
      "text/plain": [
       "('orange',\n",
       " 'peach',\n",
       " 'strawberry',\n",
       " 'mango',\n",
       " 'litchi',\n",
       " 'watermelon',\n",
       " 'kiwi',\n",
       " 'avocado',\n",
       " 'kiwi',\n",
       " 'avocado',\n",
       " 'plumberry',\n",
       " 'orange',\n",
       " 'peach',\n",
       " 'strawberry',\n",
       " 'mango',\n",
       " 'litchi',\n",
       " 'watermelon',\n",
       " 'kiwi',\n",
       " 'avocado',\n",
       " 'kiwi',\n",
       " 'avocado',\n",
       " 'plumberry',\n",
       " 'orange',\n",
       " 'peach',\n",
       " 'strawberry',\n",
       " 'mango',\n",
       " 'litchi',\n",
       " 'watermelon',\n",
       " 'kiwi',\n",
       " 'avocado',\n",
       " 'kiwi',\n",
       " 'avocado',\n",
       " 'plumberry',\n",
       " 'orange',\n",
       " 'peach',\n",
       " 'strawberry',\n",
       " 'mango',\n",
       " 'litchi',\n",
       " 'watermelon',\n",
       " 'kiwi',\n",
       " 'avocado',\n",
       " 'kiwi',\n",
       " 'avocado',\n",
       " 'plumberry')"
      ]
     },
     "execution_count": 167,
     "metadata": {},
     "output_type": "execute_result"
    }
   ],
   "source": [
    "t*4"
   ]
  },
  {
   "cell_type": "markdown",
   "id": "11a03589",
   "metadata": {},
   "source": [
    "### set"
   ]
  },
  {
   "cell_type": "code",
   "execution_count": 43,
   "id": "2f40fb60",
   "metadata": {},
   "outputs": [
    {
     "name": "stdout",
     "output_type": "stream",
     "text": [
      "<class 'set'>\n"
     ]
    }
   ],
   "source": [
    "v={\"ram\", \"shyam\", \"hari\", \"geeta\"}\n",
    "print(type(v))"
   ]
  },
  {
   "cell_type": "code",
   "execution_count": 44,
   "id": "f6db5a14",
   "metadata": {},
   "outputs": [
    {
     "data": {
      "text/plain": [
       "4"
      ]
     },
     "execution_count": 44,
     "metadata": {},
     "output_type": "execute_result"
    }
   ],
   "source": [
    "len(v)"
   ]
  },
  {
   "cell_type": "code",
   "execution_count": 45,
   "id": "039aea88",
   "metadata": {},
   "outputs": [
    {
     "ename": "TypeError",
     "evalue": "'set' object is not subscriptable",
     "output_type": "error",
     "traceback": [
      "\u001b[1;31m---------------------------------------------------------------------------\u001b[0m",
      "\u001b[1;31mTypeError\u001b[0m                                 Traceback (most recent call last)",
      "Cell \u001b[1;32mIn[45], line 1\u001b[0m\n\u001b[1;32m----> 1\u001b[0m v[\u001b[38;5;241m0\u001b[39m]\n",
      "\u001b[1;31mTypeError\u001b[0m: 'set' object is not subscriptable"
     ]
    }
   ],
   "source": [
    "v[0] #we cant access values in set"
   ]
  },
  {
   "cell_type": "code",
   "execution_count": 46,
   "id": "278ed08b",
   "metadata": {},
   "outputs": [
    {
     "name": "stdout",
     "output_type": "stream",
     "text": [
      "shyam\n",
      "geeta\n",
      "hari\n",
      "ram\n"
     ]
    }
   ],
   "source": [
    "for i in v: #accessing value , prints randomly cz it cant be indexed\n",
    "    print(i)"
   ]
  },
  {
   "cell_type": "code",
   "execution_count": 47,
   "id": "9ea66985",
   "metadata": {},
   "outputs": [],
   "source": [
    "v.add(\"pamita\") #adding values in set"
   ]
  },
  {
   "cell_type": "code",
   "execution_count": 48,
   "id": "42430a9f",
   "metadata": {},
   "outputs": [
    {
     "name": "stdout",
     "output_type": "stream",
     "text": [
      "{'ram', 'geeta', 'pamita', 'shyam', 'hari'}\n"
     ]
    }
   ],
   "source": [
    "print(v)"
   ]
  },
  {
   "cell_type": "code",
   "execution_count": 49,
   "id": "6ed0acd3",
   "metadata": {},
   "outputs": [],
   "source": [
    "b={\"ramesh\", \"vamesh\"}"
   ]
  },
  {
   "cell_type": "code",
   "execution_count": 50,
   "id": "4c000e41",
   "metadata": {},
   "outputs": [],
   "source": [
    "v.update(b)"
   ]
  },
  {
   "cell_type": "code",
   "execution_count": 51,
   "id": "19aa8961",
   "metadata": {},
   "outputs": [
    {
     "name": "stdout",
     "output_type": "stream",
     "text": [
      "{'ramesh', 'vamesh', 'ram', 'geeta', 'pamita', 'shyam', 'hari'}\n"
     ]
    }
   ],
   "source": [
    "print(v)"
   ]
  },
  {
   "cell_type": "code",
   "execution_count": 52,
   "id": "4def90e1",
   "metadata": {},
   "outputs": [],
   "source": [
    "l=[\"kamlesh\", \"bimlesh\"]"
   ]
  },
  {
   "cell_type": "code",
   "execution_count": 53,
   "id": "590092ab",
   "metadata": {},
   "outputs": [],
   "source": [
    "v.update(l) #we can add values form list in set "
   ]
  },
  {
   "cell_type": "code",
   "execution_count": 54,
   "id": "cec33ccf",
   "metadata": {},
   "outputs": [
    {
     "name": "stdout",
     "output_type": "stream",
     "text": [
      "{'ramesh', 'vamesh', 'ram', 'geeta', 'kamlesh', 'pamita', 'bimlesh', 'shyam', 'hari'}\n"
     ]
    }
   ],
   "source": [
    "print(v)"
   ]
  },
  {
   "cell_type": "code",
   "execution_count": 55,
   "id": "cd68be3e",
   "metadata": {},
   "outputs": [],
   "source": [
    "v.remove(\"pamita\") #removing value from set"
   ]
  },
  {
   "cell_type": "code",
   "execution_count": 56,
   "id": "b2e596ae",
   "metadata": {},
   "outputs": [
    {
     "ename": "KeyError",
     "evalue": "'binod'",
     "output_type": "error",
     "traceback": [
      "\u001b[1;31m---------------------------------------------------------------------------\u001b[0m",
      "\u001b[1;31mKeyError\u001b[0m                                  Traceback (most recent call last)",
      "Cell \u001b[1;32mIn[56], line 1\u001b[0m\n\u001b[1;32m----> 1\u001b[0m v\u001b[38;5;241m.\u001b[39mremove(\u001b[38;5;124m\"\u001b[39m\u001b[38;5;124mbinod\u001b[39m\u001b[38;5;124m\"\u001b[39m)\n",
      "\u001b[1;31mKeyError\u001b[0m: 'binod'"
     ]
    }
   ],
   "source": [
    "v.remove(\"binod\") #remove doenst remove values from set that are not in the list"
   ]
  },
  {
   "cell_type": "code",
   "execution_count": 57,
   "id": "b7bba261",
   "metadata": {},
   "outputs": [],
   "source": [
    "v.discard(\"binod\") #but discard removes the values if present else doesnt do anything "
   ]
  },
  {
   "cell_type": "code",
   "execution_count": 58,
   "id": "f9dfda3d",
   "metadata": {},
   "outputs": [
    {
     "name": "stdout",
     "output_type": "stream",
     "text": [
      "{'ramesh', 'vamesh', 'ram', 'geeta', 'kamlesh', 'bimlesh', 'shyam', 'hari'}\n"
     ]
    }
   ],
   "source": [
    "print(v)"
   ]
  },
  {
   "cell_type": "code",
   "execution_count": 59,
   "id": "38a28e78",
   "metadata": {},
   "outputs": [
    {
     "data": {
      "text/plain": [
       "'ramesh'"
      ]
     },
     "execution_count": 59,
     "metadata": {},
     "output_type": "execute_result"
    }
   ],
   "source": [
    "v.pop()"
   ]
  },
  {
   "cell_type": "code",
   "execution_count": 196,
   "id": "fba0447f",
   "metadata": {},
   "outputs": [],
   "source": [
    "v.update({\"ramu\", \"kamu\"}) #adding set "
   ]
  },
  {
   "cell_type": "code",
   "execution_count": 197,
   "id": "19726018",
   "metadata": {},
   "outputs": [
    {
     "name": "stdout",
     "output_type": "stream",
     "text": [
      "{'ramu', 'geeta', 'shyam', 'ramesh', 'bimlesh', 'kamu', 'kamlesh'}\n"
     ]
    }
   ],
   "source": [
    "print(v)"
   ]
  },
  {
   "cell_type": "markdown",
   "id": "a97d5835",
   "metadata": {},
   "source": [
    "### dictionaries"
   ]
  },
  {
   "cell_type": "code",
   "execution_count": 9,
   "id": "281bc33c",
   "metadata": {},
   "outputs": [
    {
     "name": "stdout",
     "output_type": "stream",
     "text": [
      "{'brand': 'Ford', 'model': 'Mustang', 'year': 2020}\n"
     ]
    }
   ],
   "source": [
    "thisdict = {\n",
    "  \"brand\": \"Ford\",\n",
    "  \"model\": \"Mustang\",\n",
    "  \"year\": 1964,\n",
    "  \"year\": 2020\n",
    "}\n",
    "print(thisdict)"
   ]
  },
  {
   "cell_type": "code",
   "execution_count": 10,
   "id": "90546106",
   "metadata": {},
   "outputs": [
    {
     "name": "stdout",
     "output_type": "stream",
     "text": [
      "3\n"
     ]
    }
   ],
   "source": [
    "print(len(thisdict))"
   ]
  },
  {
   "cell_type": "code",
   "execution_count": 11,
   "id": "971a0e68",
   "metadata": {},
   "outputs": [
    {
     "name": "stdout",
     "output_type": "stream",
     "text": [
      "<class 'dict'>\n"
     ]
    }
   ],
   "source": [
    "thisdict = {\n",
    "  \"brand\": \"Ford\",\n",
    "  \"model\": \"Mustang\",\n",
    "  \"year\": 1964\n",
    "}\n",
    "print(type(thisdict))"
   ]
  },
  {
   "cell_type": "code",
   "execution_count": 12,
   "id": "5e9ca959",
   "metadata": {},
   "outputs": [],
   "source": [
    "thisdict[\"year\"] = 2018 #changing value"
   ]
  },
  {
   "cell_type": "code",
   "execution_count": 13,
   "id": "c21d599d",
   "metadata": {},
   "outputs": [
    {
     "name": "stdout",
     "output_type": "stream",
     "text": [
      "{'brand': 'Ford', 'model': 'Mustang', 'year': 2018}\n"
     ]
    }
   ],
   "source": [
    "print(thisdict)"
   ]
  },
  {
   "cell_type": "code",
   "execution_count": 14,
   "id": "07b90cc5",
   "metadata": {},
   "outputs": [],
   "source": [
    "thisdict.update({\"year\": 2020}) #changing value"
   ]
  },
  {
   "cell_type": "code",
   "execution_count": 15,
   "id": "322e7fe0",
   "metadata": {},
   "outputs": [
    {
     "name": "stdout",
     "output_type": "stream",
     "text": [
      "{'brand': 'Ford', 'model': 'Mustang', 'year': 2020}\n"
     ]
    }
   ],
   "source": [
    "print(thisdict)"
   ]
  },
  {
   "cell_type": "code",
   "execution_count": 16,
   "id": "dae575ee",
   "metadata": {},
   "outputs": [
    {
     "name": "stdout",
     "output_type": "stream",
     "text": [
      "{'brand': 'Ford', 'model': 'Mustang', 'year': 2020, 'color': 'red'}\n"
     ]
    }
   ],
   "source": [
    "thisdict[\"color\"] = \"red\" #adding item\n",
    "print(thisdict)"
   ]
  },
  {
   "cell_type": "code",
   "execution_count": 17,
   "id": "296435e1",
   "metadata": {},
   "outputs": [
    {
     "name": "stdout",
     "output_type": "stream",
     "text": [
      "{'brand': 'Ford', 'model': 'Mustang', 'year': 2020, 'color': 'blue'}\n"
     ]
    }
   ],
   "source": [
    "thisdict.update({\"color\": \"blue\"}) #adding item\n",
    "print(thisdict)"
   ]
  },
  {
   "cell_type": "code",
   "execution_count": 18,
   "id": "301f2dae",
   "metadata": {},
   "outputs": [
    {
     "name": "stdout",
     "output_type": "stream",
     "text": [
      "{'brand': 'Ford', 'year': 2020, 'color': 'blue'}\n"
     ]
    }
   ],
   "source": [
    "thisdict.pop(\"model\") #removing item\n",
    "print(thisdict)"
   ]
  },
  {
   "cell_type": "code",
   "execution_count": 19,
   "id": "b6d0863a",
   "metadata": {},
   "outputs": [
    {
     "name": "stdout",
     "output_type": "stream",
     "text": [
      "{}\n"
     ]
    }
   ],
   "source": [
    "thisdict.clear() #clears all items\n",
    "print(thisdict)"
   ]
  },
  {
   "cell_type": "code",
   "execution_count": 20,
   "id": "277d99bf",
   "metadata": {},
   "outputs": [
    {
     "ename": "TypeError",
     "evalue": "'dict' object is not callable",
     "output_type": "error",
     "traceback": [
      "\u001b[1;31m---------------------------------------------------------------------------\u001b[0m",
      "\u001b[1;31mTypeError\u001b[0m                                 Traceback (most recent call last)",
      "Cell \u001b[1;32mIn[20], line 1\u001b[0m\n\u001b[1;32m----> 1\u001b[0m thisdict \u001b[38;5;241m=\u001b[39m \u001b[38;5;28mdict\u001b[39m(name \u001b[38;5;241m=\u001b[39m \u001b[38;5;124m\"\u001b[39m\u001b[38;5;124mJohn\u001b[39m\u001b[38;5;124m\"\u001b[39m, age \u001b[38;5;241m=\u001b[39m \u001b[38;5;241m36\u001b[39m, country \u001b[38;5;241m=\u001b[39m \u001b[38;5;124m\"\u001b[39m\u001b[38;5;124mNorway\u001b[39m\u001b[38;5;124m\"\u001b[39m) \u001b[38;5;66;03m#another way of creating dictionary\u001b[39;00m\n\u001b[0;32m      2\u001b[0m \u001b[38;5;28mprint\u001b[39m(thisdict)\n",
      "\u001b[1;31mTypeError\u001b[0m: 'dict' object is not callable"
     ]
    }
   ],
   "source": [
    "thisdict = dict(name = \"John\", age = 36, country = \"Norway\") #another way of creating dictionary but not in use anymore\n",
    "print(thisdict)"
   ]
  },
  {
   "cell_type": "code",
   "execution_count": 31,
   "id": "461946b4",
   "metadata": {},
   "outputs": [
    {
     "name": "stdout",
     "output_type": "stream",
     "text": [
      "name\n",
      "age\n",
      "country\n"
     ]
    }
   ],
   "source": [
    "for x in thisdict: #prints all keynames\n",
    "  print(x)"
   ]
  },
  {
   "cell_type": "code",
   "execution_count": 32,
   "id": "824dc849",
   "metadata": {},
   "outputs": [
    {
     "name": "stdout",
     "output_type": "stream",
     "text": [
      "John\n",
      "36\n",
      "Norway\n"
     ]
    }
   ],
   "source": [
    "for x in thisdict: #prints all values\n",
    "  print(thisdict[x])"
   ]
  },
  {
   "cell_type": "code",
   "execution_count": 33,
   "id": "cd6eedf3",
   "metadata": {},
   "outputs": [
    {
     "name": "stdout",
     "output_type": "stream",
     "text": [
      "{'name': 'John', 'age': 36, 'country': 'Norway'}\n"
     ]
    }
   ],
   "source": [
    "mydict = thisdict.copy() #copying a dictionary\n",
    "print(mydict)"
   ]
  },
  {
   "cell_type": "markdown",
   "id": "48239020",
   "metadata": {},
   "source": [
    "### if conditional"
   ]
  },
  {
   "cell_type": "code",
   "execution_count": 223,
   "id": "ce12f525",
   "metadata": {},
   "outputs": [],
   "source": [
    "a=223"
   ]
  },
  {
   "cell_type": "code",
   "execution_count": 224,
   "id": "e3b1ced0",
   "metadata": {},
   "outputs": [],
   "source": [
    "b=123"
   ]
  },
  {
   "cell_type": "code",
   "execution_count": 225,
   "id": "c9eb0708",
   "metadata": {},
   "outputs": [
    {
     "name": "stdout",
     "output_type": "stream",
     "text": [
      "a is greatest\n"
     ]
    }
   ],
   "source": [
    "if (a>b):\n",
    "    print(\"a is greatest\")\n",
    "else:\n",
    "    print(\"b is greatest\")"
   ]
  },
  {
   "cell_type": "code",
   "execution_count": 226,
   "id": "d7215aae",
   "metadata": {},
   "outputs": [
    {
     "name": "stdout",
     "output_type": "stream",
     "text": [
      "a is positive\n"
     ]
    }
   ],
   "source": [
    "if (a>0):\n",
    "    print(\"a is positive\")\n",
    "elif (a<0):\n",
    "    print(\"a is negative\")\n",
    "else:\n",
    "    print(\"a is zero\")"
   ]
  },
  {
   "cell_type": "code",
   "execution_count": 227,
   "id": "fdd3cc8a",
   "metadata": {},
   "outputs": [
    {
     "name": "stdout",
     "output_type": "stream",
     "text": [
      "a is greater than b\n"
     ]
    }
   ],
   "source": [
    "if a > b: print(\"a is greater than b\") #shorthand if (if theres only one line that needs to be print)"
   ]
  },
  {
   "cell_type": "code",
   "execution_count": 228,
   "id": "26e692d1",
   "metadata": {},
   "outputs": [
    {
     "name": "stdout",
     "output_type": "stream",
     "text": [
      "A\n"
     ]
    }
   ],
   "source": [
    "print(\"A\") if a > b else print(\"B\") #shorthand if else"
   ]
  },
  {
   "cell_type": "code",
   "execution_count": 229,
   "id": "73963227",
   "metadata": {},
   "outputs": [],
   "source": [
    "if b > a: #if statements cannot be empty, but if you for some reason have an if statement with no content, put in the pass statement to avoid getting an error.\n",
    "  pass"
   ]
  },
  {
   "cell_type": "markdown",
   "id": "2f5fb2cc",
   "metadata": {},
   "source": [
    "### dictionary2"
   ]
  },
  {
   "cell_type": "code",
   "execution_count": 230,
   "id": "2ec217ea",
   "metadata": {},
   "outputs": [],
   "source": [
    "dict={\n",
    "    \"name\":\"Mili\",\n",
    "    \"address\":\"ktm\",\n",
    "    \"roll no\":98,\n",
    "}"
   ]
  },
  {
   "cell_type": "code",
   "execution_count": 231,
   "id": "5bc0ee7a",
   "metadata": {},
   "outputs": [
    {
     "data": {
      "text/plain": [
       "{'name': 'Mili', 'address': 'ktm', 'roll no': 98}"
      ]
     },
     "execution_count": 231,
     "metadata": {},
     "output_type": "execute_result"
    }
   ],
   "source": [
    "dict"
   ]
  },
  {
   "cell_type": "code",
   "execution_count": 232,
   "id": "aa3729dd",
   "metadata": {},
   "outputs": [
    {
     "ename": "KeyError",
     "evalue": "1",
     "output_type": "error",
     "traceback": [
      "\u001b[1;31m---------------------------------------------------------------------------\u001b[0m",
      "\u001b[1;31mKeyError\u001b[0m                                  Traceback (most recent call last)",
      "Cell \u001b[1;32mIn[232], line 1\u001b[0m\n\u001b[1;32m----> 1\u001b[0m \u001b[38;5;28mdict\u001b[39m[\u001b[38;5;241m1\u001b[39m]\n",
      "\u001b[1;31mKeyError\u001b[0m: 1"
     ]
    }
   ],
   "source": [
    "dict[1]"
   ]
  },
  {
   "cell_type": "code",
   "execution_count": 233,
   "id": "96dda7e6",
   "metadata": {},
   "outputs": [
    {
     "data": {
      "text/plain": [
       "'Mili'"
      ]
     },
     "execution_count": 233,
     "metadata": {},
     "output_type": "execute_result"
    }
   ],
   "source": [
    "dict.get(\"name\") #accesing value using a key"
   ]
  },
  {
   "cell_type": "code",
   "execution_count": 234,
   "id": "4d1e6eb8",
   "metadata": {},
   "outputs": [
    {
     "data": {
      "text/plain": [
       "dict_values(['Mili', 'ktm', 98])"
      ]
     },
     "execution_count": 234,
     "metadata": {},
     "output_type": "execute_result"
    }
   ],
   "source": [
    "dict.values() #accessing values"
   ]
  },
  {
   "cell_type": "code",
   "execution_count": 235,
   "id": "088b08db",
   "metadata": {},
   "outputs": [
    {
     "data": {
      "text/plain": [
       "dict_keys(['name', 'address', 'roll no'])"
      ]
     },
     "execution_count": 235,
     "metadata": {},
     "output_type": "execute_result"
    }
   ],
   "source": [
    "dict.keys() #accessing keys"
   ]
  },
  {
   "cell_type": "code",
   "execution_count": 236,
   "id": "1496db1c",
   "metadata": {},
   "outputs": [],
   "source": [
    "dict[\"name\"]=\"sili\""
   ]
  },
  {
   "cell_type": "code",
   "execution_count": 237,
   "id": "a22966d2",
   "metadata": {},
   "outputs": [
    {
     "data": {
      "text/plain": [
       "{'name': 'sili', 'address': 'ktm', 'roll no': 98}"
      ]
     },
     "execution_count": 237,
     "metadata": {},
     "output_type": "execute_result"
    }
   ],
   "source": [
    "dict"
   ]
  },
  {
   "cell_type": "code",
   "execution_count": 238,
   "id": "093ed671",
   "metadata": {},
   "outputs": [],
   "source": [
    "dict.update({\"name\":\"eren\"})"
   ]
  },
  {
   "cell_type": "code",
   "execution_count": 239,
   "id": "92e39a61",
   "metadata": {},
   "outputs": [
    {
     "data": {
      "text/plain": [
       "{'name': 'eren', 'address': 'ktm', 'roll no': 98}"
      ]
     },
     "execution_count": 239,
     "metadata": {},
     "output_type": "execute_result"
    }
   ],
   "source": [
    "dict"
   ]
  },
  {
   "cell_type": "code",
   "execution_count": 240,
   "id": "306483ce",
   "metadata": {},
   "outputs": [
    {
     "ename": "TypeError",
     "evalue": "pop expected at least 1 argument, got 0",
     "output_type": "error",
     "traceback": [
      "\u001b[1;31m---------------------------------------------------------------------------\u001b[0m",
      "\u001b[1;31mTypeError\u001b[0m                                 Traceback (most recent call last)",
      "Cell \u001b[1;32mIn[240], line 1\u001b[0m\n\u001b[1;32m----> 1\u001b[0m \u001b[38;5;28mdict\u001b[39m\u001b[38;5;241m.\u001b[39mpop()\n",
      "\u001b[1;31mTypeError\u001b[0m: pop expected at least 1 argument, got 0"
     ]
    }
   ],
   "source": [
    "dict.pop()"
   ]
  },
  {
   "cell_type": "code",
   "execution_count": 241,
   "id": "108b0d1e",
   "metadata": {},
   "outputs": [
    {
     "data": {
      "text/plain": [
       "'eren'"
      ]
     },
     "execution_count": 241,
     "metadata": {},
     "output_type": "execute_result"
    }
   ],
   "source": [
    "dict.pop(\"name\") "
   ]
  },
  {
   "cell_type": "code",
   "execution_count": 242,
   "id": "7d68ffaf",
   "metadata": {},
   "outputs": [
    {
     "data": {
      "text/plain": [
       "{'address': 'ktm', 'roll no': 98}"
      ]
     },
     "execution_count": 242,
     "metadata": {},
     "output_type": "execute_result"
    }
   ],
   "source": [
    "dict"
   ]
  },
  {
   "cell_type": "code",
   "execution_count": 243,
   "id": "65113a09",
   "metadata": {},
   "outputs": [
    {
     "data": {
      "text/plain": [
       "{'address': 'ktm'}"
      ]
     },
     "execution_count": 243,
     "metadata": {},
     "output_type": "execute_result"
    }
   ],
   "source": [
    "dict.popitem() #removes last item\n",
    "dict"
   ]
  },
  {
   "cell_type": "code",
   "execution_count": 244,
   "id": "80c8f9a5",
   "metadata": {},
   "outputs": [],
   "source": [
    "del dict[\"address\"]"
   ]
  },
  {
   "cell_type": "code",
   "execution_count": 245,
   "id": "b1fc1907",
   "metadata": {},
   "outputs": [
    {
     "data": {
      "text/plain": [
       "{}"
      ]
     },
     "execution_count": 245,
     "metadata": {},
     "output_type": "execute_result"
    }
   ],
   "source": [
    "dict"
   ]
  },
  {
   "cell_type": "code",
   "execution_count": 246,
   "id": "856e8b74",
   "metadata": {},
   "outputs": [],
   "source": [
    "dict.update({\"color\": \"blue\", \"type\": \"satin\"}) "
   ]
  },
  {
   "cell_type": "code",
   "execution_count": 247,
   "id": "0ac3787d",
   "metadata": {},
   "outputs": [
    {
     "data": {
      "text/plain": [
       "{'color': 'blue', 'type': 'satin'}"
      ]
     },
     "execution_count": 247,
     "metadata": {},
     "output_type": "execute_result"
    }
   ],
   "source": [
    "dict"
   ]
  },
  {
   "cell_type": "code",
   "execution_count": 248,
   "id": "7baf9c80",
   "metadata": {},
   "outputs": [],
   "source": [
    "dict[\"name\"]=\"geet\""
   ]
  },
  {
   "cell_type": "code",
   "execution_count": 249,
   "id": "d8c2826d",
   "metadata": {},
   "outputs": [
    {
     "data": {
      "text/plain": [
       "{'color': 'blue', 'type': 'satin', 'name': 'geet'}"
      ]
     },
     "execution_count": 249,
     "metadata": {},
     "output_type": "execute_result"
    }
   ],
   "source": [
    "dict"
   ]
  },
  {
   "cell_type": "code",
   "execution_count": 250,
   "id": "0345ae60",
   "metadata": {},
   "outputs": [],
   "source": [
    "c=dict.copy() #del,copy,clear works in all list,set,tuple and dictionary"
   ]
  },
  {
   "cell_type": "code",
   "execution_count": 251,
   "id": "fee01d00",
   "metadata": {},
   "outputs": [
    {
     "data": {
      "text/plain": [
       "{'color': 'blue', 'type': 'satin', 'name': 'geet'}"
      ]
     },
     "execution_count": 251,
     "metadata": {},
     "output_type": "execute_result"
    }
   ],
   "source": [
    "c"
   ]
  },
  {
   "cell_type": "code",
   "execution_count": 252,
   "id": "0f2213ea",
   "metadata": {},
   "outputs": [],
   "source": [
    "c.clear()"
   ]
  },
  {
   "cell_type": "code",
   "execution_count": 253,
   "id": "09b489fd",
   "metadata": {},
   "outputs": [
    {
     "data": {
      "text/plain": [
       "{}"
      ]
     },
     "execution_count": 253,
     "metadata": {},
     "output_type": "execute_result"
    }
   ],
   "source": [
    "c"
   ]
  },
  {
   "cell_type": "code",
   "execution_count": 254,
   "id": "0f7df085",
   "metadata": {},
   "outputs": [],
   "source": [
    "del c"
   ]
  },
  {
   "cell_type": "code",
   "execution_count": 255,
   "id": "68c70322",
   "metadata": {},
   "outputs": [
    {
     "ename": "NameError",
     "evalue": "name 'c' is not defined",
     "output_type": "error",
     "traceback": [
      "\u001b[1;31m---------------------------------------------------------------------------\u001b[0m",
      "\u001b[1;31mNameError\u001b[0m                                 Traceback (most recent call last)",
      "Cell \u001b[1;32mIn[255], line 1\u001b[0m\n\u001b[1;32m----> 1\u001b[0m c\n",
      "\u001b[1;31mNameError\u001b[0m: name 'c' is not defined"
     ]
    }
   ],
   "source": [
    "c"
   ]
  },
  {
   "cell_type": "code",
   "execution_count": 256,
   "id": "4120d143",
   "metadata": {},
   "outputs": [
    {
     "ename": "ValueError",
     "evalue": "too many values to unpack (expected 2)",
     "output_type": "error",
     "traceback": [
      "\u001b[1;31m---------------------------------------------------------------------------\u001b[0m",
      "\u001b[1;31mValueError\u001b[0m                                Traceback (most recent call last)",
      "Cell \u001b[1;32mIn[256], line 1\u001b[0m\n\u001b[1;32m----> 1\u001b[0m \u001b[38;5;28;01mfor\u001b[39;00m i,j \u001b[38;5;129;01min\u001b[39;00m \u001b[38;5;28mdict\u001b[39m:\n\u001b[0;32m      2\u001b[0m     \u001b[38;5;28mprint\u001b[39m(i,j)\n",
      "\u001b[1;31mValueError\u001b[0m: too many values to unpack (expected 2)"
     ]
    }
   ],
   "source": [
    "for i,j in dict:\n",
    "    print(i,j)"
   ]
  },
  {
   "cell_type": "code",
   "execution_count": 257,
   "id": "93648e45",
   "metadata": {},
   "outputs": [
    {
     "name": "stdout",
     "output_type": "stream",
     "text": [
      "color\n",
      "type\n",
      "name\n"
     ]
    }
   ],
   "source": [
    "for i in dict:\n",
    "    print(i)"
   ]
  },
  {
   "cell_type": "code",
   "execution_count": 258,
   "id": "f3b2a527",
   "metadata": {},
   "outputs": [
    {
     "name": "stdout",
     "output_type": "stream",
     "text": [
      "blue\n",
      "satin\n",
      "geet\n"
     ]
    }
   ],
   "source": [
    "for i in dict.values():\n",
    "    print(i)"
   ]
  },
  {
   "cell_type": "code",
   "execution_count": 259,
   "id": "1f25b1a2",
   "metadata": {},
   "outputs": [
    {
     "name": "stdout",
     "output_type": "stream",
     "text": [
      "the name of color is blue\n",
      "the name of type is satin\n",
      "the name of name is geet\n"
     ]
    }
   ],
   "source": [
    "for i,j in dict.items():\n",
    "    print(f'the name of {i} is {j}')"
   ]
  },
  {
   "cell_type": "code",
   "execution_count": 260,
   "id": "fea5a371",
   "metadata": {},
   "outputs": [],
   "source": [
    "class_day={\"mili\": {\"phy\":90, \"chem\":23, \"nep\":34}, \"pis\":{\"phy\":42, \"chem\":87, \"nep\":90}} #nested dictionary"
   ]
  },
  {
   "cell_type": "code",
   "execution_count": 261,
   "id": "a52dc024",
   "metadata": {},
   "outputs": [
    {
     "data": {
      "text/plain": [
       "{'mili': {'phy': 90, 'chem': 23, 'nep': 34},\n",
       " 'pis': {'phy': 42, 'chem': 87, 'nep': 90}}"
      ]
     },
     "execution_count": 261,
     "metadata": {},
     "output_type": "execute_result"
    }
   ],
   "source": [
    "class_day"
   ]
  },
  {
   "cell_type": "code",
   "execution_count": 262,
   "id": "e5e1650e",
   "metadata": {},
   "outputs": [
    {
     "data": {
      "text/plain": [
       "23"
      ]
     },
     "execution_count": 262,
     "metadata": {},
     "output_type": "execute_result"
    }
   ],
   "source": [
    "class_day[\"mili\"][\"chem\"] #accessing value in nested list"
   ]
  },
  {
   "cell_type": "code",
   "execution_count": 263,
   "id": "5980a909",
   "metadata": {},
   "outputs": [
    {
     "data": {
      "text/plain": [
       "{'phy': 90, 'chem': 23, 'nep': 34}"
      ]
     },
     "execution_count": 263,
     "metadata": {},
     "output_type": "execute_result"
    }
   ],
   "source": [
    "class_day.get(\"mili\")"
   ]
  },
  {
   "cell_type": "code",
   "execution_count": 264,
   "id": "24fb4a2b",
   "metadata": {},
   "outputs": [],
   "source": [
    "class_day[\"mikasa\"]={\"chem\":67, \"phy\":89}"
   ]
  },
  {
   "cell_type": "code",
   "execution_count": 265,
   "id": "e68b6c84",
   "metadata": {},
   "outputs": [
    {
     "data": {
      "text/plain": [
       "{'mili': {'phy': 90, 'chem': 23, 'nep': 34},\n",
       " 'pis': {'phy': 42, 'chem': 87, 'nep': 90},\n",
       " 'mikasa': {'chem': 67, 'phy': 89}}"
      ]
     },
     "execution_count": 265,
     "metadata": {},
     "output_type": "execute_result"
    }
   ],
   "source": [
    "class_day"
   ]
  },
  {
   "cell_type": "code",
   "execution_count": 266,
   "id": "a948eddb",
   "metadata": {},
   "outputs": [
    {
     "data": {
      "text/plain": [
       "{'mili': {'phy': 90, 'chem': 23, 'nep': 34}, 'mikasa': {'chem': 67, 'phy': 89}}"
      ]
     },
     "execution_count": 266,
     "metadata": {},
     "output_type": "execute_result"
    }
   ],
   "source": [
    "class_day.pop(\"pis\")\n",
    "class_day"
   ]
  },
  {
   "cell_type": "code",
   "execution_count": 267,
   "id": "15a5ec77",
   "metadata": {},
   "outputs": [
    {
     "data": {
      "text/plain": [
       "{'mili': {'chem': 23, 'nep': 34}, 'mikasa': {'chem': 67, 'phy': 89}}"
      ]
     },
     "execution_count": 267,
     "metadata": {},
     "output_type": "execute_result"
    }
   ],
   "source": [
    "class_day[\"mili\"].pop(\"phy\") #removing a item of a nested list(mili ko phy ko mrks)\n",
    "class_day"
   ]
  },
  {
   "cell_type": "markdown",
   "id": "341882c6",
   "metadata": {},
   "source": [
    "### if else"
   ]
  },
  {
   "cell_type": "code",
   "execution_count": 2,
   "id": "21617939",
   "metadata": {},
   "outputs": [
    {
     "name": "stdout",
     "output_type": "stream",
     "text": [
      "enter marks: 12\n",
      "fail\n"
     ]
    }
   ],
   "source": [
    "a=int(input(\"enter marks: \"))\n",
    "if a>=40:\n",
    "    print(\"pass\")\n",
    "else:\n",
    "    print(\"fail\")"
   ]
  },
  {
   "cell_type": "code",
   "execution_count": 1,
   "id": "bd9dfbcd",
   "metadata": {},
   "outputs": [
    {
     "name": "stdout",
     "output_type": "stream",
     "text": [
      "enter mrks :78\n",
      "B+\n"
     ]
    }
   ],
   "source": [
    "b=int(input(\"enter marks :\")) #grading system\n",
    "if b>=90:\n",
    "    print(\"A+\")\n",
    "elif b<90 and b>=80:\n",
    "    print(\"A\")\n",
    "elif b<80 and b>=70:\n",
    "    print(\"B+\")\n",
    "elif b<70 and b>=60:\n",
    "    print(\"B\")\n",
    "elif b<60 and b>=50:\n",
    "    print(\"c+\")\n",
    "elif b<50 and b>=40:\n",
    "    print(\"c\")\n",
    "else:\n",
    "    print(\"NG\")\n",
    "          "
   ]
  },
  {
   "cell_type": "markdown",
   "id": "bd647b21",
   "metadata": {},
   "source": [
    "### print formatting"
   ]
  },
  {
   "cell_type": "code",
   "execution_count": 270,
   "id": "94b1be78",
   "metadata": {},
   "outputs": [],
   "source": [
    "c=\"ram\"\n",
    "mrks=12"
   ]
  },
  {
   "cell_type": "code",
   "execution_count": 271,
   "id": "659a1c91",
   "metadata": {},
   "outputs": [
    {
     "name": "stdout",
     "output_type": "stream",
     "text": [
      "the marks of ram is 12\n"
     ]
    }
   ],
   "source": [
    "print(f\"the marks of {c} is {mrks}\") #print formatting: formatting the output where f= formatting, to print value of variable we keep the variable name inside {}"
   ]
  },
  {
   "cell_type": "code",
   "execution_count": 273,
   "id": "943238d9",
   "metadata": {},
   "outputs": [
    {
     "name": "stdout",
     "output_type": "stream",
     "text": [
      "the marks of ram is 12\n"
     ]
    }
   ],
   "source": [
    "print(\"the marks of {} is {}\".format(c, mrks))"
   ]
  },
  {
   "cell_type": "code",
   "execution_count": null,
   "id": "f697fad9",
   "metadata": {},
   "outputs": [],
   "source": []
  },
  {
   "cell_type": "code",
   "execution_count": null,
   "id": "433825be",
   "metadata": {},
   "outputs": [],
   "source": []
  },
  {
   "cell_type": "code",
   "execution_count": null,
   "id": "eedd1557",
   "metadata": {},
   "outputs": [],
   "source": []
  }
 ],
 "metadata": {
  "kernelspec": {
   "display_name": "Python 3 (ipykernel)",
   "language": "python",
   "name": "python3"
  },
  "language_info": {
   "codemirror_mode": {
    "name": "ipython",
    "version": 3
   },
   "file_extension": ".py",
   "mimetype": "text/x-python",
   "name": "python",
   "nbconvert_exporter": "python",
   "pygments_lexer": "ipython3",
   "version": "3.11.5"
  }
 },
 "nbformat": 4,
 "nbformat_minor": 5
}
