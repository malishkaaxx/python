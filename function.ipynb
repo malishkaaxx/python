{
 "cells": [
  {
   "cell_type": "code",
   "execution_count": 2,
   "id": "ae7ace95",
   "metadata": {},
   "outputs": [],
   "source": [
    "def add(a,b):#a,b are parameters()\n",
    "    s=a+b \n",
    "add(3,4) #3,4 are arguements(user le dine)"
   ]
  },
  {
   "cell_type": "code",
   "execution_count": 1,
   "id": "31aea69c",
   "metadata": {},
   "outputs": [],
   "source": [
    "#parameter define garda agadi * thapda jati pani arguements pass garna milxa\n",
    "#last ma / thapda compulsarily position matra chainxa keyword rakhna mildaina\n",
    "#function bhitra lekheko comment is called docstring\n",
    "#return variable used to define a variable outside the func\n",
    "#to convert local variable as global use global \n",
    "#position anusar rakhne is positional parameter"
   ]
  },
  {
   "cell_type": "code",
   "execution_count": 3,
   "id": "4c537356",
   "metadata": {},
   "outputs": [],
   "source": [
    "\n",
    "def area(r):\n",
    "    global a\n",
    "    pi=22/7\n",
    "    a=pi*r**2\n",
    "    return a"
   ]
  },
  {
   "cell_type": "code",
   "execution_count": 6,
   "id": "9b6a6da9",
   "metadata": {},
   "outputs": [
    {
     "data": {
      "text/plain": [
       "154.0"
      ]
     },
     "execution_count": 6,
     "metadata": {},
     "output_type": "execute_result"
    }
   ],
   "source": [
    "o=area(7)\n",
    "o"
   ]
  },
  {
   "cell_type": "code",
   "execution_count": 5,
   "id": "b2985443",
   "metadata": {},
   "outputs": [
    {
     "data": {
      "text/plain": [
       "154.0"
      ]
     },
     "execution_count": 5,
     "metadata": {},
     "output_type": "execute_result"
    }
   ],
   "source": [
    "a"
   ]
  },
  {
   "cell_type": "code",
   "execution_count": 5,
   "id": "4a7b15c3",
   "metadata": {},
   "outputs": [],
   "source": [
    "def totalmrks_cal(eng,nep,math,phy=0,comp=0,chem=0,eco=0,acc=0,bio=0):\n",
    "    total_mrk=eng+nep+math+phy+comp+chem+eco+acc+bio\n",
    "    percent=(total_mrk/5)\n",
    "    print(total_mrk,percent)"
   ]
  },
  {
   "cell_type": "code",
   "execution_count": 6,
   "id": "3ea18cc3",
   "metadata": {},
   "outputs": [
    {
     "name": "stdout",
     "output_type": "stream",
     "text": [
      "279 55.8\n"
     ]
    }
   ],
   "source": [
    "totalmrks_cal(56,78,45,67,33)"
   ]
  },
  {
   "cell_type": "markdown",
   "id": "20cc7b86",
   "metadata": {},
   "source": [
    "### lambda "
   ]
  },
  {
   "cell_type": "code",
   "execution_count": 4,
   "id": "6d0e5dee",
   "metadata": {},
   "outputs": [
    {
     "name": "stdout",
     "output_type": "stream",
     "text": [
      "460\n"
     ]
    }
   ],
   "source": [
    "a=lambda a:a*30+100 #can be used for simple logics only\n",
    "print(a(12))"
   ]
  },
  {
   "cell_type": "code",
   "execution_count": 7,
   "id": "2bcfebbc",
   "metadata": {},
   "outputs": [
    {
     "name": "stdout",
     "output_type": "stream",
     "text": [
      "24\n"
     ]
    }
   ],
   "source": [
    "c=lambda a,b:a*b\n",
    "print(c(12,2))"
   ]
  },
  {
   "cell_type": "code",
   "execution_count": 6,
   "id": "285f2b33",
   "metadata": {},
   "outputs": [
    {
     "name": "stdout",
     "output_type": "stream",
     "text": [
      "7\n"
     ]
    }
   ],
   "source": [
    "s=lambda a:a+5\n",
    "print(s(2)) "
   ]
  },
  {
   "cell_type": "markdown",
   "id": "2ed16357",
   "metadata": {},
   "source": [
    "### high order func [ map(),filter() ]\n"
   ]
  },
  {
   "cell_type": "code",
   "execution_count": 15,
   "id": "24d383eb",
   "metadata": {},
   "outputs": [
    {
     "name": "stdout",
     "output_type": "stream",
     "text": [
      "[0, 2, 4, 6, 8, 10, 12, 14, 16, 18]\n"
     ]
    }
   ],
   "source": [
    "def double(a): #map used to ekai choti print euta formula lagako values, only calculations\n",
    "    return 2*a\n",
    "ls=list(range(10))\n",
    "print(list(map(double,ls)))\n"
   ]
  },
  {
   "cell_type": "code",
   "execution_count": 16,
   "id": "25564f07",
   "metadata": {},
   "outputs": [
    {
     "name": "stdout",
     "output_type": "stream",
     "text": [
      "[1, 2, 3, 4, 5, 6, 7, 8, 9]\n"
     ]
    }
   ],
   "source": [
    "def double(a): #condition true or false ko basis ma value filter garera print garxa filter func le \n",
    "    return 2*a\n",
    "ls=list(range(10))\n",
    "print(list(filter(double,ls)))\n"
   ]
  },
  {
   "cell_type": "code",
   "execution_count": 23,
   "id": "9b7ca6f1",
   "metadata": {},
   "outputs": [
    {
     "name": "stdout",
     "output_type": "stream",
     "text": [
      "[2, 4, 6, 8]\n"
     ]
    }
   ],
   "source": [
    "def even(a): #condition true or false ko basis ma value filter garera print garxa filter func le \n",
    "    if a%2==0:\n",
    "        return a\n",
    "ls=list(range(10))\n",
    "print(list(filter(even,ls)))\n"
   ]
  },
  {
   "cell_type": "code",
   "execution_count": 29,
   "id": "c5bfc163",
   "metadata": {},
   "outputs": [
    {
     "name": "stdout",
     "output_type": "stream",
     "text": [
      "ashi\n"
     ]
    }
   ],
   "source": [
    "#reduce func used to reduce length \n",
    "from functools import reduce\n",
    "a=[\"as\",\"hi\"]\n",
    "def add(b,c):\n",
    "    return b+c\n",
    "print(reduce(add,a)) "
   ]
  },
  {
   "cell_type": "code",
   "execution_count": 4,
   "id": "fb1f2c4e",
   "metadata": {},
   "outputs": [],
   "source": [
    "#solution for lowercase and uppercase, menu=after attempt ends restart or exit, level, categories, different words (5),score\n",
    "#setup git and github upto when we push our code itll run in github\n",
    "#setup github ssh"
   ]
  },
  {
   "cell_type": "markdown",
   "id": "fe619274",
   "metadata": {},
   "source": [
    "### try and except"
   ]
  },
  {
   "cell_type": "code",
   "execution_count": 1,
   "id": "59749e11",
   "metadata": {},
   "outputs": [
    {
     "name": "stdout",
     "output_type": "stream",
     "text": [
      "an error occured\n",
      "final output is printed\n"
     ]
    }
   ],
   "source": [
    "\n",
    "try:\n",
    "    print(x) #x is not defined so error \n",
    "except: #write errors in except \n",
    "    print(\"an error occured\")\n",
    "else: #error bhayena bhane else ko run hunxa\n",
    "    print(\"nothing went wrong\")\n",
    "finally: #at last printed compulsarily\n",
    "    print(\"final output is printed\")"
   ]
  },
  {
   "cell_type": "code",
   "execution_count": 2,
   "id": "e0fa9329",
   "metadata": {},
   "outputs": [
    {
     "name": "stdout",
     "output_type": "stream",
     "text": [
      "1\n",
      "nothing went wrong\n",
      "final output is printed\n"
     ]
    }
   ],
   "source": [
    "x=1\n",
    "try:\n",
    "    print(x) #x is not defined so error \n",
    "except: #write errors in except \n",
    "    print(\"an error occured\")\n",
    "else: #error bhayena bhane else ko run hunxa\n",
    "    print(\"nothing went wrong\")\n",
    "finally: #at last printed compulsarily\n",
    "    print(\"final output is printed\")"
   ]
  },
  {
   "cell_type": "code",
   "execution_count": null,
   "id": "4ddf3029",
   "metadata": {},
   "outputs": [],
   "source": []
  }
 ],
 "metadata": {
  "kernelspec": {
   "display_name": "Python 3 (ipykernel)",
   "language": "python",
   "name": "python3"
  },
  "language_info": {
   "codemirror_mode": {
    "name": "ipython",
    "version": 3
   },
   "file_extension": ".py",
   "mimetype": "text/x-python",
   "name": "python",
   "nbconvert_exporter": "python",
   "pygments_lexer": "ipython3",
   "version": "3.11.5"
  }
 },
 "nbformat": 4,
 "nbformat_minor": 5
}
