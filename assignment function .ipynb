{
 "cells": [
  {
   "cell_type": "code",
   "execution_count": 41,
   "id": "d1fba64b",
   "metadata": {},
   "outputs": [
    {
     "name": "stdout",
     "output_type": "stream",
     "text": [
      "enter a no: 8\n",
      "factorial is 40320\n"
     ]
    }
   ],
   "source": [
    "#Write a Python function to calculate the factorial of a given number\n",
    "a=int(input(\"enter a no: \"))\n",
    "p=1\n",
    "def factorial(a):\n",
    "    global p\n",
    "    for i in range(1,a+1):\n",
    "        p=p*i\n",
    "    print(\"factorial is\",p)\n",
    "factorial(a)"
   ]
  },
  {
   "cell_type": "code",
   "execution_count": 12,
   "id": "59863f80",
   "metadata": {},
   "outputs": [
    {
     "name": "stdout",
     "output_type": "stream",
     "text": [
      "enter a string: pop\n",
      "palindrome\n"
     ]
    }
   ],
   "source": [
    "#Write a Python function to check if a given string is a palindrome or not.\n",
    "a=input(\"enter a string: \")\n",
    "r=''\n",
    "def check(a):\n",
    "    global b,r\n",
    "    b=a\n",
    "    for i in range(1,len(a)+1):\n",
    "        r=r+a[-i]\n",
    "    if r==b:\n",
    "        print(\"palindrome\")\n",
    "    else:\n",
    "        print(\"not palindrome\")\n",
    "check(a)   "
   ]
  },
  {
   "cell_type": "code",
   "execution_count": 12,
   "id": "86d6f2db",
   "metadata": {},
   "outputs": [
    {
     "name": "stdout",
     "output_type": "stream",
     "text": [
      "enter no of terms: 9\n",
      "0\n",
      "1\n",
      "1\n",
      "2\n",
      "3\n",
      "5\n",
      "8\n",
      "13\n",
      "21\n"
     ]
    }
   ],
   "source": [
    "#Write a Python function to generate the Fibonacci sequence up to a specified number of terms\n",
    "a,b=0,1\n",
    "def fibonacci(a,b):\n",
    "    n=int(input(\"enter no of terms: \"))\n",
    "    print(a)\n",
    "    print(b)\n",
    "    for i in range(1,n-1):\n",
    "        c=a+b\n",
    "        print(c)\n",
    "        a=b\n",
    "        b=c\n",
    "fibonacci(a,b)"
   ]
  },
  {
   "cell_type": "code",
   "execution_count": 20,
   "id": "cd6e588c",
   "metadata": {},
   "outputs": [
    {
     "name": "stdout",
     "output_type": "stream",
     "text": [
      "enter a no: 1\n",
      "prime\n"
     ]
    }
   ],
   "source": [
    "#Write a Python function to check if a given number is a prime number or not. \n",
    "def prime(a):\n",
    "    a=int(input(\"enter a no: \"))\n",
    "    global c\n",
    "    c=0\n",
    "    for i in range(1,a+1):\n",
    "        if a%i==0:\n",
    "            c=c+1\n",
    "    if c<=2:\n",
    "        print(\"prime\")\n",
    "    else:\n",
    "        print(\"not prime\")\n",
    "prime(a)"
   ]
  },
  {
   "cell_type": "code",
   "execution_count": 4,
   "id": "ca6d619a",
   "metadata": {},
   "outputs": [
    {
     "name": "stdout",
     "output_type": "stream",
     "text": [
      "enter a no: 20\n",
      "enter next no: 12\n"
     ]
    },
    {
     "ename": "ZeroDivisionError",
     "evalue": "integer modulo by zero",
     "output_type": "error",
     "traceback": [
      "\u001b[1;31m---------------------------------------------------------------------------\u001b[0m",
      "\u001b[1;31mZeroDivisionError\u001b[0m                         Traceback (most recent call last)",
      "Cell \u001b[1;32mIn[4], line 12\u001b[0m\n\u001b[0;32m     10\u001b[0m         b\u001b[38;5;241m=\u001b[39mc\n\u001b[0;32m     11\u001b[0m     \u001b[38;5;28mprint\u001b[39m(\u001b[38;5;124m\"\u001b[39m\u001b[38;5;124mthe GCD is\u001b[39m\u001b[38;5;124m\"\u001b[39m,b)\n\u001b[1;32m---> 12\u001b[0m gcd(a,b,c)\n",
      "Cell \u001b[1;32mIn[4], line 8\u001b[0m, in \u001b[0;36mgcd\u001b[1;34m(a, b, c)\u001b[0m\n\u001b[0;32m      6\u001b[0m \u001b[38;5;28;01mdef\u001b[39;00m \u001b[38;5;21mgcd\u001b[39m(a,b,c):\n\u001b[0;32m      7\u001b[0m     \u001b[38;5;28;01mfor\u001b[39;00m i \u001b[38;5;129;01min\u001b[39;00m \u001b[38;5;28mrange\u001b[39m(\u001b[38;5;241m1\u001b[39m,b):\n\u001b[1;32m----> 8\u001b[0m         c\u001b[38;5;241m=\u001b[39ma\u001b[38;5;241m%\u001b[39mb\n\u001b[0;32m      9\u001b[0m         a\u001b[38;5;241m=\u001b[39mb\n\u001b[0;32m     10\u001b[0m         b\u001b[38;5;241m=\u001b[39mc\n",
      "\u001b[1;31mZeroDivisionError\u001b[0m: integer modulo by zero"
     ]
    }
   ],
   "source": [
    "#GCD (Greatest Common Divisor):\n",
    "#Write a Python function to find the greatest common divisor (GCD) of two numbers using the Euclidean algorithm. \n",
    "a=int(input(\"enter a no: \"))\n",
    "b=int(input(\"enter next no: \")) #wrong\n",
    "\n",
    "def gcd(a,b,c):\n",
    "    for i in range(1,b):\n",
    "        c=a%b\n",
    "        a=b\n",
    "        b=c\n",
    "    print(\"the GCD is\",b)\n",
    "gcd(a,b,c)"
   ]
  },
  {
   "cell_type": "code",
   "execution_count": 29,
   "id": "55a9127b",
   "metadata": {},
   "outputs": [
    {
     "name": "stdout",
     "output_type": "stream",
     "text": [
      "[9, 2, 3, 4, 5, 6, 7, 8, 1]\n"
     ]
    }
   ],
   "source": [
    "#Write a Python function to reverse a list of elements.\n",
    "l=[1,2,3,4,5,6,7,8,9]\n",
    "def rev(l):\n",
    "    a=l[0]\n",
    "    l[0]=l[-1]\n",
    "    l[-1]=a\n",
    "    print(l)\n",
    "rev(l)    "
   ]
  },
  {
   "cell_type": "code",
   "execution_count": 30,
   "id": "a09896cf",
   "metadata": {},
   "outputs": [
    {
     "name": "stdout",
     "output_type": "stream",
     "text": [
      "enter a no: 443\n",
      "11\n"
     ]
    }
   ],
   "source": [
    "#Write a Python function to calculate the sum of digits of a given integer number.\n",
    "a=input(\"enter a no: \")\n",
    "def sum(a):\n",
    "    global s\n",
    "    s=0\n",
    "    for i in a:\n",
    "        s=s+int(i)\n",
    "    print(s)\n",
    "sum(a)\n"
   ]
  },
  {
   "cell_type": "code",
   "execution_count": 10,
   "id": "bd433c7a",
   "metadata": {},
   "outputs": [
    {
     "name": "stdout",
     "output_type": "stream",
     "text": [
      "enter no: 93084\n",
      "armstrong\n"
     ]
    }
   ],
   "source": [
    "#write a Python function to check if a given number is an Armstrong number or not\n",
    "a=input(\"enter no: \")\n",
    "b=int(a)\n",
    "l=len(a)\n",
    "c=0\n",
    "def armstrong(a,c):\n",
    "    for i in a:\n",
    "        c=pow(int(i),l)+c\n",
    "    if b==c:\n",
    "        print(\"armstrong\")\n",
    "    else:\n",
    "        print(\"not armstrong\")\n",
    "armstrong(a,c)        "
   ]
  },
  {
   "cell_type": "code",
   "execution_count": 8,
   "id": "1259aa08",
   "metadata": {},
   "outputs": [
    {
     "name": "stdout",
     "output_type": "stream",
     "text": [
      "enter radius of circle: 14\n",
      "area is 615.44\n"
     ]
    }
   ],
   "source": [
    "#Write Python functions to calculate the area of various geometric shapes such as circle, rectangle, triangle, etc.\n",
    "r=int(input(\"enter radius of circle: \"))\n",
    "def area_circle(r,a):\n",
    "    a=3.14*r**2\n",
    "    print(\"area is\",a)\n",
    "area_circle(r,a)"
   ]
  },
  {
   "cell_type": "code",
   "execution_count": 34,
   "id": "8043f0c6",
   "metadata": {},
   "outputs": [
    {
     "name": "stdout",
     "output_type": "stream",
     "text": [
      "enter length: 4\n",
      "enter breadth: 5\n",
      "area of rectangle is 20\n"
     ]
    }
   ],
   "source": [
    "l=int(input(\"enter length: \"))\n",
    "b=int(input(\"enter breadth: \"))\n",
    "def area_rect(l,b,a):\n",
    "    a=l*b\n",
    "    print(\"area of rectangle is\",a)\n",
    "area_rect(l,b,a)"
   ]
  },
  {
   "cell_type": "code",
   "execution_count": 35,
   "id": "a90112b7",
   "metadata": {},
   "outputs": [
    {
     "name": "stdout",
     "output_type": "stream",
     "text": [
      "enter base: 4\n",
      "enter height: 6\n",
      "area of triangle is 12.0\n"
     ]
    }
   ],
   "source": [
    "b=int(input(\"enter base: \"))\n",
    "h=int(input(\"enter height: \"))\n",
    "def area_triangle(b,h,a):\n",
    "    a=1/2*b*h\n",
    "    print(\"area of triangle is\",a)\n",
    "area_triangle(b,h,a)"
   ]
  },
  {
   "cell_type": "code",
   "execution_count": 11,
   "id": "22f8928d",
   "metadata": {},
   "outputs": [
    {
     "name": "stdout",
     "output_type": "stream",
     "text": [
      "enter string: ahaha\n",
      "AHAHA\n",
      "ahaha\n"
     ]
    }
   ],
   "source": [
    "#write Python functions to perform common string manipulations such as counting the occurrences of a substring, converting to uppercase/lowercase, splitting, joining, etc.\n",
    "a=input(\"enter string: \")\n",
    "def upperlower(a):\n",
    "    print(a.upper())\n",
    "    print(a.lower())\n",
    "upperlower(a)"
   ]
  },
  {
   "cell_type": "code",
   "execution_count": 12,
   "id": "3c868723",
   "metadata": {},
   "outputs": [
    {
     "name": "stdout",
     "output_type": "stream",
     "text": [
      "a\n",
      "h\n",
      "a\n",
      "h\n",
      "a\n"
     ]
    }
   ],
   "source": [
    "def split(a):\n",
    "    for i in a:\n",
    "        print(i)\n",
    "split(a)"
   ]
  },
  {
   "cell_type": "code",
   "execution_count": 19,
   "id": "00e531c5",
   "metadata": {},
   "outputs": [
    {
     "name": "stdout",
     "output_type": "stream",
     "text": [
      "a\n",
      "h\n",
      "a\n",
      "h\n",
      "a\n"
     ]
    }
   ],
   "source": [
    "\n",
    "def split_alt(a):\n",
    "    for i in range(0,len(a)):\n",
    "        print(a[i])\n",
    "split_alt(a)"
   ]
  },
  {
   "cell_type": "code",
   "execution_count": 39,
   "id": "dbd4f658",
   "metadata": {},
   "outputs": [
    {
     "name": "stdout",
     "output_type": "stream",
     "text": [
      "whahiin\n"
     ]
    }
   ],
   "source": [
    "a=\"whah\"\n",
    "b=\"iin\"\n",
    "def join(a,b):\n",
    "    c=a+b\n",
    "    print(c)\n",
    "join(a,b)\n",
    "        "
   ]
  },
  {
   "cell_type": "code",
   "execution_count": null,
   "id": "b6e96b8d",
   "metadata": {},
   "outputs": [],
   "source": []
  }
 ],
 "metadata": {
  "kernelspec": {
   "display_name": "Python 3 (ipykernel)",
   "language": "python",
   "name": "python3"
  },
  "language_info": {
   "codemirror_mode": {
    "name": "ipython",
    "version": 3
   },
   "file_extension": ".py",
   "mimetype": "text/x-python",
   "name": "python",
   "nbconvert_exporter": "python",
   "pygments_lexer": "ipython3",
   "version": "3.11.5"
  }
 },
 "nbformat": 4,
 "nbformat_minor": 5
}
